{
  "nbformat": 4,
  "nbformat_minor": 0,
  "metadata": {
    "colab": {
      "name": "Noverde_Eduardo_Bartolomeu.ipynb",
      "provenance": [],
      "collapsed_sections": [],
      "authorship_tag": "ABX9TyNXvgpC5J0IWy/SlnmUnGnO",
      "include_colab_link": true
    },
    "kernelspec": {
      "name": "python3",
      "display_name": "Python 3"
    }
  },
  "cells": [
    {
      "cell_type": "markdown",
      "metadata": {
        "id": "view-in-github",
        "colab_type": "text"
      },
      "source": [
        "<a href=\"https://colab.research.google.com/github/eduardobart/data_engineer_essentials/blob/master/Noverde_Eduardo_Bartolomeu.ipynb\" target=\"_parent\"><img src=\"https://colab.research.google.com/assets/colab-badge.svg\" alt=\"Open In Colab\"/></a>"
      ]
    },
    {
      "cell_type": "code",
      "metadata": {
        "id": "tIJYCecXF_MW",
        "colab_type": "code",
        "colab": {
          "base_uri": "https://localhost:8080/",
          "height": 872
        },
        "outputId": "e2168a44-374a-4c38-99eb-caea968fd8b3"
      },
      "source": [
        " !apt-get clean\n",
        " !rm -rf /var/lib/apt/lists/*\n",
        " !apt-get clean\n",
        " !apt-get update \n",
        " !apt-get upgrade"
      ],
      "execution_count": 10,
      "outputs": [
        {
          "output_type": "stream",
          "text": [
            "\r0% [Working]\r            \rIgn:1 https://developer.download.nvidia.com/compute/cuda/repos/ubuntu1804/x86_64  InRelease\n",
            "\r0% [Waiting for headers] [Waiting for headers] [Waiting for headers] [Waiting f\r                                                                               \rGet:2 http://ppa.launchpad.net/graphics-drivers/ppa/ubuntu bionic InRelease [21.3 kB]\n",
            "\r0% [Waiting for headers] [Waiting for headers] [Waiting for headers] [Waiting f\r                                                                               \rGet:3 http://security.ubuntu.com/ubuntu bionic-security InRelease [88.7 kB]\n",
            "\r0% [Waiting for headers] [3 InRelease 14.2 kB/88.7 kB 16%] [Waiting for headers\r                                                                               \rGet:4 https://cloud.r-project.org/bin/linux/ubuntu bionic-cran35/ InRelease [3,626 B]\n",
            "\r0% [Waiting for headers] [3 InRelease 14.2 kB/88.7 kB 16%] [4 InRelease 3,626 B\r0% [Waiting for headers] [3 InRelease 14.2 kB/88.7 kB 16%] [Waiting for headers\r                                                                               \rIgn:5 https://developer.download.nvidia.com/compute/machine-learning/repos/ubuntu1804/x86_64  InRelease\n",
            "\r0% [Waiting for headers] [3 InRelease 14.2 kB/88.7 kB 16%] [2 InRelease 14.2 kB\r                                                                               \rGet:6 http://archive.ubuntu.com/ubuntu bionic InRelease [242 kB]\n",
            "\r0% [6 InRelease 14.2 kB/242 kB 6%] [3 InRelease 14.2 kB/88.7 kB 16%] [2 InRelea\r0% [4 InRelease gpgv 3,626 B] [6 InRelease 14.2 kB/242 kB 6%] [3 InRelease 14.2\r                                                                               \rGet:7 https://developer.download.nvidia.com/compute/cuda/repos/ubuntu1804/x86_64  Release [697 B]\n",
            "\r0% [4 InRelease gpgv 3,626 B] [6 InRelease 14.2 kB/242 kB 6%] [3 InRelease 14.2\r0% [4 InRelease gpgv 3,626 B] [6 InRelease 14.2 kB/242 kB 6%] [3 InRelease 14.2\r                                                                               \rGet:8 https://developer.download.nvidia.com/compute/machine-learning/repos/ubuntu1804/x86_64  Release [564 B]\n",
            "\r0% [4 InRelease gpgv 3,626 B] [6 InRelease 14.2 kB/242 kB 6%] [3 InRelease 14.2\r                                                                               \rGet:9 https://developer.download.nvidia.com/compute/cuda/repos/ubuntu1804/x86_64  Release.gpg [836 B]\n",
            "\r0% [4 InRelease gpgv 3,626 B] [6 InRelease 14.2 kB/242 kB 6%] [3 InRelease 14.2\r0% [4 InRelease gpgv 3,626 B] [6 InRelease 14.2 kB/242 kB 6%] [3 InRelease 14.2\r                                                                               \rGet:10 https://developer.download.nvidia.com/compute/machine-learning/repos/ubuntu1804/x86_64  Release.gpg [833 B]\n",
            "\r0% [4 InRelease gpgv 3,626 B] [6 InRelease 14.2 kB/242 kB 6%] [3 InRelease 14.2\r0% [4 InRelease gpgv 3,626 B] [6 InRelease 14.2 kB/242 kB 6%] [3 InRelease 43.1\r0% [4 InRelease gpgv 3,626 B] [6 InRelease 60.5 kB/242 kB 25%] [Waiting for hea\r                                                                               \r0% [6 InRelease 75.0 kB/242 kB 31%] [Waiting for headers]\r0% [9 Release.gpg gpgv 697 B] [6 InRelease 75.0 kB/242 kB 31%] [Waiting for hea\r                                                                               \rGet:11 http://ppa.launchpad.net/marutter/c2d4u3.5/ubuntu bionic InRelease [15.4 kB]\n",
            "Get:12 https://cloud.r-project.org/bin/linux/ubuntu bionic-cran35/ Packages [94.1 kB]\n",
            "Get:13 http://archive.ubuntu.com/ubuntu bionic-updates InRelease [88.7 kB]\n",
            "Ign:14 https://developer.download.nvidia.com/compute/cuda/repos/ubuntu1804/x86_64  Packages\n",
            "Get:14 https://developer.download.nvidia.com/compute/cuda/repos/ubuntu1804/x86_64  Packages [255 kB]\n",
            "Get:15 http://archive.ubuntu.com/ubuntu bionic-backports InRelease [74.6 kB]\n",
            "Get:16 https://developer.download.nvidia.com/compute/machine-learning/repos/ubuntu1804/x86_64  Packages [43.7 kB]\n",
            "Get:17 http://ppa.launchpad.net/graphics-drivers/ppa/ubuntu bionic/main amd64 Packages [43.3 kB]\n",
            "Get:18 http://security.ubuntu.com/ubuntu bionic-security/multiverse amd64 Packages [9,558 B]\n",
            "Get:19 http://security.ubuntu.com/ubuntu bionic-security/restricted amd64 Packages [100 kB]\n",
            "Get:20 http://security.ubuntu.com/ubuntu bionic-security/universe amd64 Packages [882 kB]\n",
            "Get:21 http://ppa.launchpad.net/marutter/c2d4u3.5/ubuntu bionic/main Sources [1,856 kB]\n",
            "Get:22 http://archive.ubuntu.com/ubuntu bionic/multiverse amd64 Packages [186 kB]\n",
            "Get:23 http://security.ubuntu.com/ubuntu bionic-security/main amd64 Packages [1,038 kB]\n",
            "Get:24 http://archive.ubuntu.com/ubuntu bionic/main amd64 Packages [1,344 kB]\n",
            "Get:25 http://archive.ubuntu.com/ubuntu bionic/universe amd64 Packages [11.3 MB]\n",
            "Get:26 http://ppa.launchpad.net/marutter/c2d4u3.5/ubuntu bionic/main amd64 Packages [895 kB]\n",
            "Get:27 http://archive.ubuntu.com/ubuntu bionic/restricted amd64 Packages [13.5 kB]\n",
            "Get:28 http://archive.ubuntu.com/ubuntu bionic-updates/multiverse amd64 Packages [27.1 kB]\n",
            "Get:29 http://archive.ubuntu.com/ubuntu bionic-updates/universe amd64 Packages [1,413 kB]\n",
            "Get:30 http://archive.ubuntu.com/ubuntu bionic-updates/restricted amd64 Packages [116 kB]\n",
            "Get:31 http://archive.ubuntu.com/ubuntu bionic-updates/main amd64 Packages [1,334 kB]\n",
            "Get:32 http://archive.ubuntu.com/ubuntu bionic-backports/universe amd64 Packages [8,432 B]\n",
            "Get:33 http://archive.ubuntu.com/ubuntu bionic-backports/main amd64 Packages [8,286 B]\n",
            "Fetched 21.5 MB in 4s (5,373 kB/s)\n",
            "Reading package lists... Done\n",
            "Reading package lists... Done\n",
            "Building dependency tree       \n",
            "Reading state information... Done\n",
            "Calculating upgrade... Done\n",
            "The following package was automatically installed and is no longer required:\n",
            "  libnvidia-common-440\n",
            "Use 'apt autoremove' to remove it.\n",
            "The following packages have been kept back:\n",
            "  libcublas-dev libcublas10 libcudnn7 libcudnn7-dev libnccl-dev libnccl2\n",
            "  r-cran-tidyr\n",
            "0 upgraded, 0 newly installed, 0 to remove and 7 not upgraded.\n"
          ],
          "name": "stdout"
        }
      ]
    },
    {
      "cell_type": "code",
      "metadata": {
        "id": "ZRGESXegGVOP",
        "colab_type": "code",
        "colab": {}
      },
      "source": [
        "!apt-get install openjdk-8-jdk-headless -qq > /dev/null"
      ],
      "execution_count": 19,
      "outputs": []
    },
    {
      "cell_type": "code",
      "metadata": {
        "id": "cqASRXKBG1DE",
        "colab_type": "code",
        "colab": {}
      },
      "source": [
        "!wget -q https://archive.apache.org/dist/spark/spark-2.4.1/spark-2.4.1-bin-hadoop2.7.tgz"
      ],
      "execution_count": 20,
      "outputs": []
    },
    {
      "cell_type": "code",
      "metadata": {
        "id": "k4TEwt30HDjS",
        "colab_type": "code",
        "colab": {}
      },
      "source": [
        "!tar xf spark-2.4.1-bin-hadoop2.7.tgz"
      ],
      "execution_count": 21,
      "outputs": []
    },
    {
      "cell_type": "code",
      "metadata": {
        "id": "RyVOZnX3HPdS",
        "colab_type": "code",
        "colab": {}
      },
      "source": [
        "!pip install -q findspark\n",
        "!pip install -q pyspark"
      ],
      "execution_count": 22,
      "outputs": []
    },
    {
      "cell_type": "code",
      "metadata": {
        "id": "uhwdEPQ0HgSM",
        "colab_type": "code",
        "colab": {}
      },
      "source": [
        "import os\n",
        "os.environ[\"JAVA_HOME\"] = \"/usr/lib/jvm/java-8-openjdk-amd64\"\n",
        "os.environ[\"SPARK_HOME\"] = \"/content/spark-2.4.1-bin-hadoop2.7\""
      ],
      "execution_count": 24,
      "outputs": []
    },
    {
      "cell_type": "code",
      "metadata": {
        "id": "-i1D1pg3HmeW",
        "colab_type": "code",
        "colab": {}
      },
      "source": [
        "import findspark\n",
        "findspark.init()\n",
        "from pyspark.sql import SparkSession\n",
        "spark = SparkSession.builder.master(\"local[*]\").getOrCreate()"
      ],
      "execution_count": 25,
      "outputs": []
    },
    {
      "cell_type": "code",
      "metadata": {
        "id": "mQpN_SX4PQb8",
        "colab_type": "code",
        "colab": {}
      },
      "source": [
        "from pyspark.sql import SQLContext"
      ],
      "execution_count": 26,
      "outputs": []
    },
    {
      "cell_type": "code",
      "metadata": {
        "id": "R86ucAMtNltM",
        "colab_type": "code",
        "colab": {}
      },
      "source": [
        "df_loans = spark.read.csv(\"/content/Datasets/loans_sample.csv\", header=True, inferSchema=True)"
      ],
      "execution_count": 28,
      "outputs": []
    },
    {
      "cell_type": "code",
      "metadata": {
        "id": "bWWKKfQrOAJC",
        "colab_type": "code",
        "colab": {
          "base_uri": "https://localhost:8080/",
          "height": 145
        },
        "outputId": "98a57241-38eb-4527-eed9-9a90d2e167cf"
      },
      "source": [
        "df_loans.printSchema()"
      ],
      "execution_count": 29,
      "outputs": [
        {
          "output_type": "stream",
          "text": [
            "root\n",
            " |-- loan_id: integer (nullable = true)\n",
            " |-- period: integer (nullable = true)\n",
            " |-- accepted_at: timestamp (nullable = true)\n",
            " |-- payday: integer (nullable = true)\n",
            " |-- interest_rate: double (nullable = true)\n",
            "\n"
          ],
          "name": "stdout"
        }
      ]
    },
    {
      "cell_type": "code",
      "metadata": {
        "id": "3i6NKk0iPnCD",
        "colab_type": "code",
        "colab": {
          "base_uri": "https://localhost:8080/",
          "height": 199
        },
        "outputId": "b5dbba33-a934-4738-d496-a89763f56de8"
      },
      "source": [
        "df_loans.describe().show()"
      ],
      "execution_count": 30,
      "outputs": [
        {
          "output_type": "stream",
          "text": [
            "+-------+-----------------+------------------+------------------+------------------+\n",
            "|summary|          loan_id|            period|            payday|     interest_rate|\n",
            "+-------+-----------------+------------------+------------------+------------------+\n",
            "|  count|              788|               788|               788|               788|\n",
            "|   mean|            393.5| 11.40989847715736|17.804568527918782| 6.980647208121897|\n",
            "| stddev|227.6202978646676|1.6165451701117575| 7.066745102572057|1.4814822970928707|\n",
            "|    min|                0|                 6|                 5|              3.12|\n",
            "|    max|              787|                12|                25|              8.01|\n",
            "+-------+-----------------+------------------+------------------+------------------+\n",
            "\n"
          ],
          "name": "stdout"
        }
      ]
    },
    {
      "cell_type": "code",
      "metadata": {
        "id": "GCmy4I63Pwnr",
        "colab_type": "code",
        "colab": {
          "base_uri": "https://localhost:8080/",
          "height": 308
        },
        "outputId": "c58e95fd-86da-4b81-bb39-d2a6147d2b85"
      },
      "source": [
        "df_loans.select(df_loans.columns).show(10)"
      ],
      "execution_count": 32,
      "outputs": [
        {
          "output_type": "stream",
          "text": [
            "+-------+------+--------------------+------+-------------+\n",
            "|loan_id|period|         accepted_at|payday|interest_rate|\n",
            "+-------+------+--------------------+------+-------------+\n",
            "|      0|    12|2017-05-17 16:48:...|    25|         3.12|\n",
            "|      1|    12|2017-05-19 03:12:...|    25|         7.55|\n",
            "|      2|    12|2017-05-24 13:22:...|    25|         7.55|\n",
            "|      3|    12|2017-05-21 23:51:...|     5|         7.55|\n",
            "|      4|     9|2017-05-18 08:07:...|    15|         7.49|\n",
            "|      5|    12|2017-05-20 08:39:...|    25|         3.12|\n",
            "|      6|     9|2017-05-17 07:48:...|    15|         7.49|\n",
            "|      7|    12|2017-05-23 14:16:...|     5|         7.55|\n",
            "|      8|    12|2017-05-16 16:17:...|    15|         7.55|\n",
            "|      9|    12|2017-05-21 17:47:...|    15|         7.55|\n",
            "+-------+------+--------------------+------+-------------+\n",
            "only showing top 10 rows\n",
            "\n"
          ],
          "name": "stdout"
        }
      ]
    },
    {
      "cell_type": "code",
      "metadata": {
        "id": "CaCE2I1UVCfF",
        "colab_type": "code",
        "colab": {}
      },
      "source": [
        "df_payments = spark.read.format('parquet').load('/content/Datasets/payments_sample.parquet')"
      ],
      "execution_count": 169,
      "outputs": []
    },
    {
      "cell_type": "code",
      "metadata": {
        "id": "oYWdONEuVOgJ",
        "colab_type": "code",
        "colab": {
          "base_uri": "https://localhost:8080/",
          "height": 199
        },
        "outputId": "6ddd9dbf-7611-48fc-e58d-0fc5c5c433c1"
      },
      "source": [
        "df_payments.describe().show()"
      ],
      "execution_count": 34,
      "outputs": [
        {
          "output_type": "stream",
          "text": [
            "+-------+------------------+------------------+--------------+--------------------+------------------+\n",
            "|summary|           loan_id|    installment_id|payment_method|          payment_id|       paid_amount|\n",
            "+-------+------------------+------------------+--------------+--------------------+------------------+\n",
            "|  count|              5622|              5622|          5622|                5622|              5622|\n",
            "|   mean| 394.4224475275703| 4725.355211668445|          null|                null|460.15150124510484|\n",
            "| stddev|226.77114780266456|2646.3912996392514|          null|                null|231.03905591125778|\n",
            "|    min|                 0|                 0|        boleto|0001c60e-be8c-4b8...|            178.46|\n",
            "|    max|               787|              8837|           ted|ffffb94b-4dc8-40a...|           1923.32|\n",
            "+-------+------------------+------------------+--------------+--------------------+------------------+\n",
            "\n"
          ],
          "name": "stdout"
        }
      ]
    },
    {
      "cell_type": "code",
      "metadata": {
        "id": "r32qY4vsa_o2",
        "colab_type": "code",
        "colab": {
          "base_uri": "https://localhost:8080/",
          "height": 490
        },
        "outputId": "8fc6db18-fe01-4756-c3e2-dfb982e81908"
      },
      "source": [
        "df_payments.select(df_payments.columns).show()"
      ],
      "execution_count": 35,
      "outputs": [
        {
          "output_type": "stream",
          "text": [
            "+-------+--------------+------------+--------------+--------------------+-----------+\n",
            "|loan_id|installment_id|payment_date|payment_method|          payment_id|paid_amount|\n",
            "+-------+--------------+------------+--------------+--------------------+-----------+\n",
            "|    291|             0|  2017-06-01|    creditcard|8ad9e0e5-a232-477...|     454.94|\n",
            "|    291|             1|  2017-07-03|           ted|e747c7f0-bd95-4ac...|     454.94|\n",
            "|    291|             2|  2017-07-23|           ted|35734218-a71f-411...|     454.94|\n",
            "|    291|             3|  2017-10-19|        boleto|1c957990-5245-41e...|     462.94|\n",
            "|    291|             5|  2018-05-14|    creditcard|4389d87f-570a-4a7...|     456.94|\n",
            "|    291|             6|  2017-12-05|    creditcard|91bdae2d-f1ba-40a...|     454.94|\n",
            "|    291|             7|  2017-11-19|           ted|46410647-eb71-49b...|     457.94|\n",
            "|    291|             8|  2018-01-23|    creditcard|abc5cefe-0c08-481...|     454.94|\n",
            "|    291|             9|  2018-04-12|           ted|77b437f6-f1ea-4ad...|     454.94|\n",
            "|    291|            10|  2017-12-31|    creditcard|5b6bf993-faec-4bd...|     454.94|\n",
            "|    291|            11|  2018-02-23|    creditcard|4865e86e-4042-412...|     454.94|\n",
            "|    154|            16|  2017-12-23|    creditcard|9a51f76c-5107-47e...|     335.67|\n",
            "|    154|            17|  2018-01-24|    creditcard|cc9f205a-fb8d-4a7...|     358.67|\n",
            "|    154|            18|  2018-02-20|    creditcard|ca8a2ba7-ba5d-427...|     329.67|\n",
            "|    154|            19|  2018-03-18|           ted|a727ef8f-27d5-4ad...|     329.67|\n",
            "|    433|            20|  2017-08-07|        boleto|01f1f151-e063-45e...|     650.93|\n",
            "|    433|            21|  2017-09-22|           ted|0b879fda-c4c9-421...|     650.93|\n",
            "|    433|            22|  2017-12-01|    creditcard|1a77226b-4814-40b...|     650.93|\n",
            "|    433|            24|  2017-11-17|    creditcard|7be08edb-60f7-4c8...|     650.93|\n",
            "|    433|            25|  2018-01-05|    creditcard|d9cd4d56-a00b-46c...|     650.93|\n",
            "+-------+--------------+------------+--------------+--------------------+-----------+\n",
            "only showing top 20 rows\n",
            "\n"
          ],
          "name": "stdout"
        }
      ]
    },
    {
      "cell_type": "markdown",
      "metadata": {
        "id": "vSOGUgARa6FZ",
        "colab_type": "text"
      },
      "source": [
        "'"
      ]
    },
    {
      "cell_type": "code",
      "metadata": {
        "id": "4vKGD4IqeLod",
        "colab_type": "code",
        "colab": {}
      },
      "source": [
        "from pyspark.sql.types import ArrayType, StructField, StructType, StringType, IntegerType, DateType, DataType"
      ],
      "execution_count": 170,
      "outputs": []
    },
    {
      "cell_type": "code",
      "metadata": {
        "id": "iV9KsFoSd7Xv",
        "colab_type": "code",
        "colab": {}
      },
      "source": [
        "schema = StructType([\n",
        "      StructField(\"installment_id\",StringType(),True),\n",
        "      StructField(\"loan_id\",StringType(),True),\n",
        "      StructField(\"number\",StringType(),True),\n",
        "      StructField(\"due_date\",StringType(),True),\n",
        "      StructField(\"installment_value\",StringType(),True)\n",
        "])"
      ],
      "execution_count": 38,
      "outputs": []
    },
    {
      "cell_type": "code",
      "metadata": {
        "id": "F3tA11raeKzD",
        "colab_type": "code",
        "colab": {}
      },
      "source": [
        "df_installments = spark.read.json('/content/Datasets/installments_sample.json', schema=schema)"
      ],
      "execution_count": 39,
      "outputs": []
    },
    {
      "cell_type": "code",
      "metadata": {
        "id": "JuMx1JWNfOiT",
        "colab_type": "code",
        "colab": {
          "base_uri": "https://localhost:8080/",
          "height": 126
        },
        "outputId": "302906a9-215f-4d03-84d5-15688d004b22"
      },
      "source": [
        "df_installments.show()"
      ],
      "execution_count": 40,
      "outputs": [
        {
          "output_type": "stream",
          "text": [
            "+--------------+-------+------+--------+-----------------+\n",
            "|installment_id|loan_id|number|due_date|installment_value|\n",
            "+--------------+-------+------+--------+-----------------+\n",
            "|          null|   null|  null|    null|             null|\n",
            "+--------------+-------+------+--------+-----------------+\n",
            "\n"
          ],
          "name": "stdout"
        }
      ]
    },
    {
      "cell_type": "code",
      "metadata": {
        "id": "G2hp6BSFh2hT",
        "colab_type": "code",
        "colab": {
          "base_uri": "https://localhost:8080/",
          "height": 145
        },
        "outputId": "10476ba9-1155-4a8e-b809-b2a3de5ca5f2"
      },
      "source": [
        "df_installments.printSchema()"
      ],
      "execution_count": 41,
      "outputs": [
        {
          "output_type": "stream",
          "text": [
            "root\n",
            " |-- installment_id: string (nullable = true)\n",
            " |-- loan_id: string (nullable = true)\n",
            " |-- number: string (nullable = true)\n",
            " |-- due_date: string (nullable = true)\n",
            " |-- installment_value: string (nullable = true)\n",
            "\n"
          ],
          "name": "stdout"
        }
      ]
    },
    {
      "cell_type": "code",
      "metadata": {
        "id": "QacrmfDnjYCM",
        "colab_type": "code",
        "colab": {}
      },
      "source": [
        "df_installments = spark.read.json('/content/Datasets/installments_sample_without_header.json')"
      ],
      "execution_count": 42,
      "outputs": []
    },
    {
      "cell_type": "markdown",
      "metadata": {
        "id": "wFx8gaTdnoHv",
        "colab_type": "text"
      },
      "source": [
        "Tive que tirar o header do JSON para a leitura acontecer\n"
      ]
    },
    {
      "cell_type": "code",
      "metadata": {
        "id": "xdJyL3pPjc3W",
        "colab_type": "code",
        "colab": {}
      },
      "source": [
        "df_installments = spark.read.json ('/content/Datasets/installments_sample_without_header_tratado.json')"
      ],
      "execution_count": 171,
      "outputs": []
    },
    {
      "cell_type": "code",
      "metadata": {
        "id": "b9lMEfYSoAWV",
        "colab_type": "code",
        "colab": {
          "base_uri": "https://localhost:8080/",
          "height": 490
        },
        "outputId": "e087e928-6890-4b32-99b1-a017f5a2f393"
      },
      "source": [
        "df_installments.show()"
      ],
      "execution_count": 172,
      "outputs": [
        {
          "output_type": "stream",
          "text": [
            "+--------------------+--------------+-----------------+-------+------+\n",
            "|            due_date|installment_id|installment_value|loan_id|number|\n",
            "+--------------------+--------------+-----------------+-------+------+\n",
            "|2017-06-12T00:00:...|             0|           454.94|    291|     1|\n",
            "|2017-07-12T00:00:...|             1|           454.94|    291|     2|\n",
            "|2017-08-12T00:00:...|             2|           454.94|    291|     3|\n",
            "|2017-10-12T00:00:...|             3|           454.94|    291|     5|\n",
            "|2017-09-12T00:00:...|             4|           454.94|    291|     4|\n",
            "|2018-05-12T00:00:...|             5|           454.94|    291|    12|\n",
            "|2017-12-12T00:00:...|             6|           454.94|    291|     7|\n",
            "|2017-11-12T00:00:...|             7|           454.94|    291|     6|\n",
            "|2018-02-12T00:00:...|             8|           454.94|    291|     9|\n",
            "|2018-04-12T00:00:...|             9|           454.94|    291|    11|\n",
            "|2018-01-12T00:00:...|            10|           454.94|    291|     8|\n",
            "|2018-03-12T00:00:...|            11|           454.94|    291|    10|\n",
            "|2017-09-01T00:00:...|            12|           398.35|    670|     3|\n",
            "|2017-08-22T00:00:...|            13|           329.67|    154|     4|\n",
            "|2017-10-22T00:00:...|            14|           329.67|    154|     6|\n",
            "|2017-11-22T00:00:...|            15|           329.67|    154|     7|\n",
            "|2017-12-22T00:00:...|            16|           329.67|    154|     8|\n",
            "|2018-01-22T00:00:...|            17|           329.67|    154|     9|\n",
            "|2018-02-22T00:00:...|            18|           329.67|    154|    10|\n",
            "|2018-03-22T00:00:...|            19|           329.67|    154|    11|\n",
            "+--------------------+--------------+-----------------+-------+------+\n",
            "only showing top 20 rows\n",
            "\n"
          ],
          "name": "stdout"
        }
      ]
    },
    {
      "cell_type": "markdown",
      "metadata": {
        "id": "OtzrQYIgu5sV",
        "colab_type": "text"
      },
      "source": [
        "Tive também que trocar as vírgulas por quebras de linha.\n"
      ]
    },
    {
      "cell_type": "code",
      "metadata": {
        "id": "SmIkf7s5X7t8",
        "colab_type": "code",
        "colab": {}
      },
      "source": [
        "from pyspark.sql.functions import create_map"
      ],
      "execution_count": 173,
      "outputs": []
    },
    {
      "cell_type": "code",
      "metadata": {
        "id": "zYDphZopo-vb",
        "colab_type": "code",
        "colab": {}
      },
      "source": [
        "df_installments = df_installments.withColumn('due_date_sub', df_installments.due_date.substr(1, 10))"
      ],
      "execution_count": 174,
      "outputs": []
    },
    {
      "cell_type": "code",
      "metadata": {
        "id": "N2MaWk8aWQLM",
        "colab_type": "code",
        "colab": {}
      },
      "source": [
        "df_installments = df_installments.withColumn('map',create_map('number', 'due_date_sub').alias(\"map\"))"
      ],
      "execution_count": 175,
      "outputs": []
    },
    {
      "cell_type": "code",
      "metadata": {
        "id": "-lTvilpXX1Kg",
        "colab_type": "code",
        "colab": {
          "base_uri": "https://localhost:8080/",
          "height": 490
        },
        "outputId": "895aa8c4-0ead-4aae-e265-d757882407f8"
      },
      "source": [
        "df_installments.show()"
      ],
      "execution_count": 177,
      "outputs": [
        {
          "output_type": "stream",
          "text": [
            "+--------------------+--------------+-----------------+-------+------+------------+------------------+\n",
            "|            due_date|installment_id|installment_value|loan_id|number|due_date_sub|               map|\n",
            "+--------------------+--------------+-----------------+-------+------+------------+------------------+\n",
            "|2017-06-12T00:00:...|             0|           454.94|    291|     1|  2017-06-12| [1 -> 2017-06-12]|\n",
            "|2017-07-12T00:00:...|             1|           454.94|    291|     2|  2017-07-12| [2 -> 2017-07-12]|\n",
            "|2017-08-12T00:00:...|             2|           454.94|    291|     3|  2017-08-12| [3 -> 2017-08-12]|\n",
            "|2017-10-12T00:00:...|             3|           454.94|    291|     5|  2017-10-12| [5 -> 2017-10-12]|\n",
            "|2017-09-12T00:00:...|             4|           454.94|    291|     4|  2017-09-12| [4 -> 2017-09-12]|\n",
            "|2018-05-12T00:00:...|             5|           454.94|    291|    12|  2018-05-12|[12 -> 2018-05-12]|\n",
            "|2017-12-12T00:00:...|             6|           454.94|    291|     7|  2017-12-12| [7 -> 2017-12-12]|\n",
            "|2017-11-12T00:00:...|             7|           454.94|    291|     6|  2017-11-12| [6 -> 2017-11-12]|\n",
            "|2018-02-12T00:00:...|             8|           454.94|    291|     9|  2018-02-12| [9 -> 2018-02-12]|\n",
            "|2018-04-12T00:00:...|             9|           454.94|    291|    11|  2018-04-12|[11 -> 2018-04-12]|\n",
            "|2018-01-12T00:00:...|            10|           454.94|    291|     8|  2018-01-12| [8 -> 2018-01-12]|\n",
            "|2018-03-12T00:00:...|            11|           454.94|    291|    10|  2018-03-12|[10 -> 2018-03-12]|\n",
            "|2017-09-01T00:00:...|            12|           398.35|    670|     3|  2017-09-01| [3 -> 2017-09-01]|\n",
            "|2017-08-22T00:00:...|            13|           329.67|    154|     4|  2017-08-22| [4 -> 2017-08-22]|\n",
            "|2017-10-22T00:00:...|            14|           329.67|    154|     6|  2017-10-22| [6 -> 2017-10-22]|\n",
            "|2017-11-22T00:00:...|            15|           329.67|    154|     7|  2017-11-22| [7 -> 2017-11-22]|\n",
            "|2017-12-22T00:00:...|            16|           329.67|    154|     8|  2017-12-22| [8 -> 2017-12-22]|\n",
            "|2018-01-22T00:00:...|            17|           329.67|    154|     9|  2018-01-22| [9 -> 2018-01-22]|\n",
            "|2018-02-22T00:00:...|            18|           329.67|    154|    10|  2018-02-22|[10 -> 2018-02-22]|\n",
            "|2018-03-22T00:00:...|            19|           329.67|    154|    11|  2018-03-22|[11 -> 2018-03-22]|\n",
            "+--------------------+--------------+-----------------+-------+------+------------+------------------+\n",
            "only showing top 20 rows\n",
            "\n"
          ],
          "name": "stdout"
        }
      ]
    },
    {
      "cell_type": "code",
      "metadata": {
        "id": "Uqf3zSRglLjh",
        "colab_type": "code",
        "colab": {}
      },
      "source": [
        "df_installments = df_installments.withColumnRenamed('loan_id', 'loan_id_installment')"
      ],
      "execution_count": 178,
      "outputs": []
    },
    {
      "cell_type": "code",
      "metadata": {
        "id": "YDt4z9MjYGSR",
        "colab_type": "code",
        "colab": {}
      },
      "source": [
        "df_parquet_final = df_loans.join(df_installments, df_loans.loan_id == df_installments.loan_id_installment,how='left')"
      ],
      "execution_count": 179,
      "outputs": []
    },
    {
      "cell_type": "code",
      "metadata": {
        "id": "XhaZFnfxYH7q",
        "colab_type": "code",
        "colab": {
          "base_uri": "https://localhost:8080/",
          "height": 490
        },
        "outputId": "bd7182df-9116-4884-83bb-9dbbe859afb4"
      },
      "source": [
        "df_parquet_final.show()"
      ],
      "execution_count": 180,
      "outputs": [
        {
          "output_type": "stream",
          "text": [
            "+-------+------+--------------------+------+-------------+--------------------+--------------+-----------------+-------------------+------+------------+------------------+\n",
            "|loan_id|period|         accepted_at|payday|interest_rate|            due_date|installment_id|installment_value|loan_id_installment|number|due_date_sub|               map|\n",
            "+-------+------+--------------------+------+-------------+--------------------+--------------+-----------------+-------------------+------+------------+------------------+\n",
            "|      0|    12|2017-05-17 16:48:...|    25|         3.12|2018-06-01T00:00:...|          2599|           494.27|                  0|    12|  2018-06-01|[12 -> 2018-06-01]|\n",
            "|      0|    12|2017-05-17 16:48:...|    25|         3.12|2018-05-02T00:00:...|          2598|           494.27|                  0|    11|  2018-05-02|[11 -> 2018-05-02]|\n",
            "|      0|    12|2017-05-17 16:48:...|    25|         3.12|2018-04-01T00:00:...|          2597|           494.27|                  0|    10|  2018-04-01|[10 -> 2018-04-01]|\n",
            "|      0|    12|2017-05-17 16:48:...|    25|         3.12|2018-03-04T00:00:...|          2596|           494.27|                  0|     9|  2018-03-04| [9 -> 2018-03-04]|\n",
            "|      0|    12|2017-05-17 16:48:...|    25|         3.12|2018-02-01T00:00:...|          2595|           494.27|                  0|     8|  2018-02-01| [8 -> 2018-02-01]|\n",
            "|      0|    12|2017-05-17 16:48:...|    25|         3.12|2018-01-01T00:00:...|          2594|           494.27|                  0|     7|  2018-01-01| [7 -> 2018-01-01]|\n",
            "|      0|    12|2017-05-17 16:48:...|    25|         3.12|2017-12-02T00:00:...|          2593|           494.27|                  0|     6|  2017-12-02| [6 -> 2017-12-02]|\n",
            "|      0|    12|2017-05-17 16:48:...|    25|         3.12|2017-11-01T00:00:...|          2592|           494.27|                  0|     5|  2017-11-01| [5 -> 2017-11-01]|\n",
            "|      0|    12|2017-05-17 16:48:...|    25|         3.12|2017-10-02T00:00:...|          2591|           494.27|                  0|     4|  2017-10-02| [4 -> 2017-10-02]|\n",
            "|      0|    12|2017-05-17 16:48:...|    25|         3.12|2017-09-01T00:00:...|          2590|           494.27|                  0|     3|  2017-09-01| [3 -> 2017-09-01]|\n",
            "|      0|    12|2017-05-17 16:48:...|    25|         3.12|2017-08-01T00:00:...|          2589|           494.27|                  0|     2|  2017-08-01| [2 -> 2017-08-01]|\n",
            "|      0|    12|2017-05-17 16:48:...|    25|         3.12|2017-07-02T00:00:...|          2588|           494.27|                  0|     1|  2017-07-02| [1 -> 2017-07-02]|\n",
            "|      1|    12|2017-05-19 03:12:...|    25|         7.55|2018-06-01T00:00:...|          7622|           280.09|                  1|    12|  2018-06-01|[12 -> 2018-06-01]|\n",
            "|      1|    12|2017-05-19 03:12:...|    25|         7.55|2018-05-02T00:00:...|          7621|           280.09|                  1|    11|  2018-05-02|[11 -> 2018-05-02]|\n",
            "|      1|    12|2017-05-19 03:12:...|    25|         7.55|2018-04-01T00:00:...|          7620|           280.09|                  1|    10|  2018-04-01|[10 -> 2018-04-01]|\n",
            "|      1|    12|2017-05-19 03:12:...|    25|         7.55|2018-03-04T00:00:...|          7619|           280.09|                  1|     9|  2018-03-04| [9 -> 2018-03-04]|\n",
            "|      1|    12|2017-05-19 03:12:...|    25|         7.55|2018-02-01T00:00:...|          7618|           280.09|                  1|     8|  2018-02-01| [8 -> 2018-02-01]|\n",
            "|      1|    12|2017-05-19 03:12:...|    25|         7.55|2018-01-01T00:00:...|          7617|           280.09|                  1|     7|  2018-01-01| [7 -> 2018-01-01]|\n",
            "|      1|    12|2017-05-19 03:12:...|    25|         7.55|2017-12-02T00:00:...|          7616|           280.09|                  1|     6|  2017-12-02| [6 -> 2017-12-02]|\n",
            "|      1|    12|2017-05-19 03:12:...|    25|         7.55|2017-11-01T00:00:...|          7615|           280.09|                  1|     5|  2017-11-01| [5 -> 2017-11-01]|\n",
            "+-------+------+--------------------+------+-------------+--------------------+--------------+-----------------+-------------------+------+------------+------------------+\n",
            "only showing top 20 rows\n",
            "\n"
          ],
          "name": "stdout"
        }
      ]
    },
    {
      "cell_type": "code",
      "metadata": {
        "id": "Uya01ayXZUp8",
        "colab_type": "code",
        "colab": {}
      },
      "source": [
        "df_parquet_final.createOrReplaceTempView('df_parquet_final_temp')"
      ],
      "execution_count": 181,
      "outputs": []
    },
    {
      "cell_type": "code",
      "metadata": {
        "id": "KSssPerPcy1d",
        "colab_type": "code",
        "colab": {}
      },
      "source": [
        "df_payments.createOrReplaceTempView('df_payments_temp')"
      ],
      "execution_count": 182,
      "outputs": []
    },
    {
      "cell_type": "code",
      "metadata": {
        "id": "QM9KLEWHN3q0",
        "colab_type": "code",
        "colab": {}
      },
      "source": [
        "df_installments.createOrReplaceTempView('df_installments_temp')"
      ],
      "execution_count": 183,
      "outputs": []
    },
    {
      "cell_type": "code",
      "metadata": {
        "id": "ES2wGetkbvhF",
        "colab_type": "code",
        "colab": {}
      },
      "source": [
        "query = '''SELECT L.loan_id, L.period, L.accepted_at, L.payday, L.interest_rate, L.map as installments, (SELECT collect_list(struct(payment_id as id, payment_date, payment_method, paid_amount as amount)) FROM df_payments_temp P WHERE L.loan_id = P.loan_id) payments  FROM df_parquet_final_temp L'''"
      ],
      "execution_count": 184,
      "outputs": []
    },
    {
      "cell_type": "code",
      "metadata": {
        "id": "Jy0dxastdKFT",
        "colab_type": "code",
        "colab": {}
      },
      "source": [
        "df_parquet_final = spark.sql(query)"
      ],
      "execution_count": 185,
      "outputs": []
    },
    {
      "cell_type": "code",
      "metadata": {
        "id": "mLH481xumqcX",
        "colab_type": "code",
        "colab": {
          "base_uri": "https://localhost:8080/",
          "height": 490
        },
        "outputId": "8bdfa36c-4dcf-4879-a610-2d8d5239aaa0"
      },
      "source": [
        "df_parquet_final.show()"
      ],
      "execution_count": 186,
      "outputs": [
        {
          "output_type": "stream",
          "text": [
            "+-------+------+--------------------+------+-------------+------------------+--------------------+\n",
            "|loan_id|period|         accepted_at|payday|interest_rate|      installments|            payments|\n",
            "+-------+------+--------------------+------+-------------+------------------+--------------------+\n",
            "|      0|    12|2017-05-17 16:48:...|    25|         3.12|[12 -> 2018-06-01]|[[11eab099-5ca4-4...|\n",
            "|      0|    12|2017-05-17 16:48:...|    25|         3.12|[11 -> 2018-05-02]|[[11eab099-5ca4-4...|\n",
            "|      0|    12|2017-05-17 16:48:...|    25|         3.12|[10 -> 2018-04-01]|[[11eab099-5ca4-4...|\n",
            "|      0|    12|2017-05-17 16:48:...|    25|         3.12| [9 -> 2018-03-04]|[[11eab099-5ca4-4...|\n",
            "|      0|    12|2017-05-17 16:48:...|    25|         3.12| [8 -> 2018-02-01]|[[11eab099-5ca4-4...|\n",
            "|      0|    12|2017-05-17 16:48:...|    25|         3.12| [7 -> 2018-01-01]|[[11eab099-5ca4-4...|\n",
            "|      0|    12|2017-05-17 16:48:...|    25|         3.12| [6 -> 2017-12-02]|[[11eab099-5ca4-4...|\n",
            "|      0|    12|2017-05-17 16:48:...|    25|         3.12| [5 -> 2017-11-01]|[[11eab099-5ca4-4...|\n",
            "|      0|    12|2017-05-17 16:48:...|    25|         3.12| [4 -> 2017-10-02]|[[11eab099-5ca4-4...|\n",
            "|      0|    12|2017-05-17 16:48:...|    25|         3.12| [3 -> 2017-09-01]|[[11eab099-5ca4-4...|\n",
            "|      0|    12|2017-05-17 16:48:...|    25|         3.12| [2 -> 2017-08-01]|[[11eab099-5ca4-4...|\n",
            "|      0|    12|2017-05-17 16:48:...|    25|         3.12| [1 -> 2017-07-02]|[[11eab099-5ca4-4...|\n",
            "|      1|    12|2017-05-19 03:12:...|    25|         7.55|[12 -> 2018-06-01]|[[3057333a-1a75-4...|\n",
            "|      1|    12|2017-05-19 03:12:...|    25|         7.55|[11 -> 2018-05-02]|[[3057333a-1a75-4...|\n",
            "|      1|    12|2017-05-19 03:12:...|    25|         7.55|[10 -> 2018-04-01]|[[3057333a-1a75-4...|\n",
            "|      1|    12|2017-05-19 03:12:...|    25|         7.55| [9 -> 2018-03-04]|[[3057333a-1a75-4...|\n",
            "|      1|    12|2017-05-19 03:12:...|    25|         7.55| [8 -> 2018-02-01]|[[3057333a-1a75-4...|\n",
            "|      1|    12|2017-05-19 03:12:...|    25|         7.55| [7 -> 2018-01-01]|[[3057333a-1a75-4...|\n",
            "|      1|    12|2017-05-19 03:12:...|    25|         7.55| [6 -> 2017-12-02]|[[3057333a-1a75-4...|\n",
            "|      1|    12|2017-05-19 03:12:...|    25|         7.55| [5 -> 2017-11-01]|[[3057333a-1a75-4...|\n",
            "+-------+------+--------------------+------+-------------+------------------+--------------------+\n",
            "only showing top 20 rows\n",
            "\n"
          ],
          "name": "stdout"
        }
      ]
    },
    {
      "cell_type": "code",
      "metadata": {
        "id": "AMRPN8wFqeSD",
        "colab_type": "code",
        "colab": {}
      },
      "source": [
        "df_parquet_final.createOrReplaceTempView('df_parquet_final_temp')"
      ],
      "execution_count": 187,
      "outputs": []
    },
    {
      "cell_type": "code",
      "metadata": {
        "id": "rIJzSIAMZk0r",
        "colab_type": "code",
        "colab": {}
      },
      "source": [
        "query = '''\n",
        "select pqf.*,struct(array(if(pay.payment_id is not null, False, True)) as latency\n",
        "             ,array(if(pay.payment_id is not null and datediff((SELECT MAX(payment_date) FROM df_payments_temp WHERE loan_id = pay.loan_id), due_date_sub) > 30, False, True)) as over30) as metrics\n",
        "from df_parquet_final_temp pqf\n",
        "left join df_installments_temp inst\n",
        "on inst.loan_id_installment = pqf.loan_id\n",
        "left join df_payments_temp pay\n",
        "on inst.loan_id_installment = pay.loan_id and inst.installment_id = pay.installment_id  '''"
      ],
      "execution_count": 188,
      "outputs": []
    },
    {
      "cell_type": "code",
      "metadata": {
        "id": "nkKS-3wtDuG0",
        "colab_type": "code",
        "colab": {}
      },
      "source": [
        "df_parquet_final = spark.sql(query)"
      ],
      "execution_count": 189,
      "outputs": []
    },
    {
      "cell_type": "code",
      "metadata": {
        "id": "dXJpGPuaQan3",
        "colab_type": "code",
        "colab": {
          "base_uri": "https://localhost:8080/",
          "height": 490
        },
        "outputId": "ce3789b7-fbba-4742-e11f-287a583eae76"
      },
      "source": [
        "df_parquet_final.show()"
      ],
      "execution_count": 190,
      "outputs": [
        {
          "output_type": "stream",
          "text": [
            "+-------+------+--------------------+------+-------------+------------------+--------------------+------------------+\n",
            "|loan_id|period|         accepted_at|payday|interest_rate|      installments|            payments|           metrics|\n",
            "+-------+------+--------------------+------+-------------+------------------+--------------------+------------------+\n",
            "|      0|    12|2017-05-17 16:48:...|    25|         3.12|[12 -> 2018-06-01]|[[11eab099-5ca4-4...|  [[true], [true]]|\n",
            "|      0|    12|2017-05-17 16:48:...|    25|         3.12|[12 -> 2018-06-01]|[[11eab099-5ca4-4...|  [[true], [true]]|\n",
            "|      0|    12|2017-05-17 16:48:...|    25|         3.12|[12 -> 2018-06-01]|[[11eab099-5ca4-4...| [[false], [true]]|\n",
            "|      0|    12|2017-05-17 16:48:...|    25|         3.12|[12 -> 2018-06-01]|[[11eab099-5ca4-4...|  [[true], [true]]|\n",
            "|      0|    12|2017-05-17 16:48:...|    25|         3.12|[12 -> 2018-06-01]|[[11eab099-5ca4-4...|[[false], [false]]|\n",
            "|      0|    12|2017-05-17 16:48:...|    25|         3.12|[12 -> 2018-06-01]|[[11eab099-5ca4-4...|  [[true], [true]]|\n",
            "|      0|    12|2017-05-17 16:48:...|    25|         3.12|[12 -> 2018-06-01]|[[11eab099-5ca4-4...|[[false], [false]]|\n",
            "|      0|    12|2017-05-17 16:48:...|    25|         3.12|[12 -> 2018-06-01]|[[11eab099-5ca4-4...|[[false], [false]]|\n",
            "|      0|    12|2017-05-17 16:48:...|    25|         3.12|[12 -> 2018-06-01]|[[11eab099-5ca4-4...|[[false], [false]]|\n",
            "|      0|    12|2017-05-17 16:48:...|    25|         3.12|[12 -> 2018-06-01]|[[11eab099-5ca4-4...|[[false], [false]]|\n",
            "|      0|    12|2017-05-17 16:48:...|    25|         3.12|[12 -> 2018-06-01]|[[11eab099-5ca4-4...|  [[true], [true]]|\n",
            "|      0|    12|2017-05-17 16:48:...|    25|         3.12|[12 -> 2018-06-01]|[[11eab099-5ca4-4...|[[false], [false]]|\n",
            "|      0|    12|2017-05-17 16:48:...|    25|         3.12|[11 -> 2018-05-02]|[[11eab099-5ca4-4...|  [[true], [true]]|\n",
            "|      0|    12|2017-05-17 16:48:...|    25|         3.12|[11 -> 2018-05-02]|[[11eab099-5ca4-4...|  [[true], [true]]|\n",
            "|      0|    12|2017-05-17 16:48:...|    25|         3.12|[11 -> 2018-05-02]|[[11eab099-5ca4-4...| [[false], [true]]|\n",
            "|      0|    12|2017-05-17 16:48:...|    25|         3.12|[11 -> 2018-05-02]|[[11eab099-5ca4-4...|  [[true], [true]]|\n",
            "|      0|    12|2017-05-17 16:48:...|    25|         3.12|[11 -> 2018-05-02]|[[11eab099-5ca4-4...|[[false], [false]]|\n",
            "|      0|    12|2017-05-17 16:48:...|    25|         3.12|[11 -> 2018-05-02]|[[11eab099-5ca4-4...|  [[true], [true]]|\n",
            "|      0|    12|2017-05-17 16:48:...|    25|         3.12|[11 -> 2018-05-02]|[[11eab099-5ca4-4...|[[false], [false]]|\n",
            "|      0|    12|2017-05-17 16:48:...|    25|         3.12|[11 -> 2018-05-02]|[[11eab099-5ca4-4...|[[false], [false]]|\n",
            "+-------+------+--------------------+------+-------------+------------------+--------------------+------------------+\n",
            "only showing top 20 rows\n",
            "\n"
          ],
          "name": "stdout"
        }
      ]
    },
    {
      "cell_type": "code",
      "metadata": {
        "id": "e2GyQ799bxHS",
        "colab_type": "code",
        "colab": {
          "base_uri": "https://localhost:8080/",
          "height": 399
        },
        "outputId": "6f4b5191-a7b1-4107-dd51-de6d18aaa949"
      },
      "source": [
        "df_parquet_final.printSchema()"
      ],
      "execution_count": 191,
      "outputs": [
        {
          "output_type": "stream",
          "text": [
            "root\n",
            " |-- loan_id: integer (nullable = true)\n",
            " |-- period: integer (nullable = true)\n",
            " |-- accepted_at: timestamp (nullable = true)\n",
            " |-- payday: integer (nullable = true)\n",
            " |-- interest_rate: double (nullable = true)\n",
            " |-- installments: map (nullable = true)\n",
            " |    |-- key: long\n",
            " |    |-- value: string (valueContainsNull = true)\n",
            " |-- payments: array (nullable = true)\n",
            " |    |-- element: struct (containsNull = true)\n",
            " |    |    |-- payment_id: string (nullable = true)\n",
            " |    |    |-- payment_date: date (nullable = true)\n",
            " |    |    |-- payment_method: string (nullable = true)\n",
            " |    |    |-- paid_amount: double (nullable = true)\n",
            " |-- metrics: struct (nullable = false)\n",
            " |    |-- latency: array (nullable = false)\n",
            " |    |    |-- element: boolean (containsNull = false)\n",
            " |    |-- over30: array (nullable = false)\n",
            " |    |    |-- element: boolean (containsNull = false)\n",
            "\n"
          ],
          "name": "stdout"
        }
      ]
    },
    {
      "cell_type": "markdown",
      "metadata": {
        "id": "LYzlDuWSatRp",
        "colab_type": "text"
      },
      "source": [
        "Dataframe da tabela final criado!\n"
      ]
    },
    {
      "cell_type": "code",
      "metadata": {
        "id": "kwsuaDNxa-Dz",
        "colab_type": "code",
        "colab": {}
      },
      "source": [
        "df_parquet_final.write.parquet('/content/Datasets/loan_documents.parquet')"
      ],
      "execution_count": 193,
      "outputs": []
    },
    {
      "cell_type": "code",
      "metadata": {
        "id": "0l55sb_RNy2P",
        "colab_type": "code",
        "colab": {}
      },
      "source": [
        "!rm -rf '/content/Datasets/loan_documents.parquet'"
      ],
      "execution_count": 192,
      "outputs": []
    },
    {
      "cell_type": "code",
      "metadata": {
        "id": "DtnX88GnbcZw",
        "colab_type": "code",
        "colab": {}
      },
      "source": [
        "spark.sql(\"\"\"\n",
        "create external table loan_documents (\n",
        "    loan_id integer ,\n",
        "    period integer,\n",
        "    accepted_at timestamp ,\n",
        "    payday integer,\n",
        "    interest_rate double,\n",
        "    installments map<long, string>,\n",
        "    payments array<struct<id: int, payment_date: string, method: string, amount: double>>,\n",
        " metrics struct<latency: array<boolean>, over30: array<boolean>>\n",
        ")\n",
        "STORED AS PARQUET\n",
        "location \"/content/Datasets/loan_documents.parquet\"\n",
        "\"\"\")"
      ],
      "execution_count": null,
      "outputs": []
    },
    {
      "cell_type": "code",
      "metadata": {
        "id": "HSOIyH2afTYs",
        "colab_type": "code",
        "colab": {}
      },
      "source": [
        "df_parquet_final.createOrReplaceTempView('loan_documents')"
      ],
      "execution_count": 195,
      "outputs": []
    },
    {
      "cell_type": "markdown",
      "metadata": {
        "id": "5bUeKxrNnNJu",
        "colab_type": "text"
      },
      "source": [
        "**Questões**"
      ]
    },
    {
      "cell_type": "markdown",
      "metadata": {
        "id": "uNrSue4qmys_",
        "colab_type": "text"
      },
      "source": [
        "1) Para cada mês de 2019*, qual foi a proporção do montante recebido, em relação ao que era esperado? Ex: Vamos supor que em janeiro 2019 recebemos RS 9000, e o valor total devido neste mês era RS 10000, você deve criar uma query que retorne da seguinte forma:\n",
        "![Capture1.JPG](data:image/jpeg;base64,/9j/4AAQSkZJRgABAQEAYABgAAD/4RFIRXhpZgAATU0AKgAAAAgABAE7AAIAAAAqAAAISodpAAQAAAABAAAIdJydAAEAAABUAAAQ7OocAAcAAAgMAAAAPgAAAAAc6gAAAAgAAAAAAAAAAAAAAAAAAAAAAAAAAAAAAAAAAAAAAAAAAAAAAAAAAAAAAAAAAAAAAAAAAAAAAAAAAAAAAAAAAAAAAAAAAAAAAAAAAAAAAAAAAAAAAAAAAAAAAAAAAAAAAAAAAAAAAAAAAAAAAAAAAAAAAAAAAAAAAAAAAAAAAAAAAAAAAAAAAAAAAAAAAAAAAAAAAAAAAAAAAAAAAAAAAAAAAAAAAAAAAAAAAAAAAAAAAAAAAAAAAAAAAAAAAAAAAAAAAAAAAAAAAAAAAAAAAAAAAAAAAAAAAAAAAAAAAAAAAAAAAAAAAAAAAAAAAAAAAAAAAAAAAAAAAAAAAAAAAAAAAAAAAAAAAAAAAAAAAAAAAAAAAAAAAAAAAAAAAAAAAAAAAAAAAAAAAAAAAAAAAAAAAAAAAAAAAAAAAAAAAAAAAAAAAAAAAAAAAAAAAAAAAAAAAAAAAAAAAAAAAAAAAAAAAAAAAAAAAAAAAAAAAAAAAAAAAAAAAAAAAAAAAAAAAAAAAAAAAAAAAAAAAAAAAAAAAAAAAAAAAAAAAAAAAAAAAAAAAAAAAAAAAAAAAAAAAAAAAAAAAAAAAAAAAAAAAAAAAAAAAAAAAAAAAAAAAAAAAAAAAAAAAAAAAAAAAAAAAAAAAAAAAAAAAAAAAAAAAAAAAAAAAAAAAAAAAAAAAAAAAAAAAAAAAAAAAAAAAAAAAAAAAAAAAAAAAAAAAAAAAAAAAAAAAAAAAAAAAAAAAAAAAAAAAAAAAAAAAAAAAAAAAAAAAAAAAAAAAAAAAAAAAAAAAAAAAAAAAAAAAAAAAAAAAAAAAAAAAAAAAAAAAAAAAAAAAAAAAAAAAAAAAAAAAAAAAAAAAAAAAAAAAAAAAAAAAAAAAAAAAAAAAAAAAAAAAAAAAAAAAAAAAAAAAAAAAAAAAAAAAAAAAAAAAAAAAAAAAAAAAAAAAAAAAAAAAAAAAAAAAAAAAAAAAAAAAAAAAAAAAAAAAAAAAAAAAAAAAAAAAAAAAAAAAAAAAAAAAAAAAAAAAAAAAAAAAAAAAAAAAAAAAAAAAAAAAAAAAAAAAAAAAAAAAAAAAAAAAAAAAAAAAAAAAAAAAAAAAAAAAAAAAAAAAAAAAAAAAAAAAAAAAAAAAAAAAAAAAAAAAAAAAAAAAAAAAAAAAAAAAAAAAAAAAAAAAAAAAAAAAAAAAAAAAAAAAAAAAAAAAAAAAAAAAAAAAAAAAAAAAAAAAAAAAAAAAAAAAAAAAAAAAAAAAAAAAAAAAAAAAAAAAAAAAAAAAAAAAAAAAAAAAAAAAAAAAAAAAAAAAAAAAAAAAAAAAAAAAAAAAAAAAAAAAAAAAAAAAAAAAAAAAAAAAAAAAAAAAAAAAAAAAAAAAAAAAAAAAAAAAAAAAAAAAAAAAAAAAAAAAAAAAAAAAAAAAAAAAAAAAAAAAAAAAAAAAAAAAAAAAAAAAAAAAAAAAAAAAAAAAAAAAAAAAAAAAAAAAAAAAAAAAAAAAAAAAAAAAAAAAAAAAAAAAAAAAAAAAAAAAAAAAAAAAAAAAAAAAAAAAAAAAAAAAAAAAAAAAAAAAAAAAAAAAAAAAAAAAAAAAAAAAAAAAAAAAAAAAAAAAAAAAAAAAAAAAAAAAAAAAAAAAAAAAAAAAAAAAAAAAAAAAAAAAAAAAAAAAAAAAAAAAAAAAAAAAAAAAAAAAAAAAAAAAAAAAAAAAAAAAAAAAAAAAAAAAAAAAAAAAAAAAAAAAAAAAAAAAAAAAAAAAAAAAAAAAAAAAAAAAAAAAAAAAAAAAAAAAAAAAAAAAAAAAAAAAAAAAAAAAAAAAAAAAAAAAAAAAAAAAAAAAAAAAAAAAAAAAAAAAAAAAAAAAAAAAAAAAAAAAAAAAAAAAAAAAAAAAAAAAAAAAAAAAAAAAAAAAAAAAAAAAAAAAAAAAAAAAAAAAAAAAAAAAAAAAAAAAAAAAAAAAAAAAAAAAAAAAAAAAAAAAAAAAAAAAAAAAAAAAAAAAAAAAAAAAAAAAAAAAAAAAAAAAAAAAAAAAAAAAAAAAAAAAAAAAAAAAAAAAAAAAAAAAAAAAAAAAAAAAAAAAAAAAAAAAAAAAAAAAAAAAAAAAAAAAAAAAAAAAAAAAAAAAAAAAAAAAAAAAAAAAAAAAAAAAAAAAAAAAAAAAAAAAAAAAAAAAAAAAAAAAAAAAAAAAAAAAAAAAAAAAAAAAAAAAAAAAAAAAAAAAAAAAAAAAAAAAAAAAAAAAAAAAAAAAAAAAAAAAAAAAAAAAAAAAAAAAAAAAAAAAAAAAAAAAAAAAAAAAAAAAAAAAAAAAAAAAAAAAAAAAAAAAAAAAAAAAAAAAAAAAAAAAAAAAAAAAAAAAAAAAAAAAAAAAAAAAAAAAAAAAAAAAAAAAAAAAAAAAAAAAAAAAAAAAAAAAAAAAAAAAAAAAAAAAAAAAAAAAAAAAAAAAAAAAAAAAAAAAAAAAAAAAAAAAAAAAAAAAAAAAAAAAAAAAAAAAAAAAAAAAAAAAAAAAAAAAAAAAAAAAAAAAAAAAAAAAAAAAAAAAAAAAAAAAAAAAAAAAAAAAAAAAAAAAAAAAAAAAAAAAAAAAAAAAAAAAAAAAAAAAAAAAAAAAAAAAAAAAAAAAAAAAAAAAAAAAAAAAAAAAAAAAAAAAAAAAAAAAAAAAAAAAAAAAAAAAAAAAAAAAAAAAAAAAAAAAAAAAAAAAAAAAAAAAAAAAAAAAAAAAAAAAAAAAAAAAAAAAAAAAAAAAAAAAAAAAEVkdWFyZG8gQmFydG9sb21ldSBCYXJib3NhIENhcm5laXJvIEZpbGhvAAAFkAMAAgAAABQAABDCkAQAAgAAABQAABDWkpEAAgAAAAMxMgAAkpIAAgAAAAMxMgAA6hwABwAACAwAAAi2AAAAABzqAAAACAAAAAAAAAAAAAAAAAAAAAAAAAAAAAAAAAAAAAAAAAAAAAAAAAAAAAAAAAAAAAAAAAAAAAAAAAAAAAAAAAAAAAAAAAAAAAAAAAAAAAAAAAAAAAAAAAAAAAAAAAAAAAAAAAAAAAAAAAAAAAAAAAAAAAAAAAAAAAAAAAAAAAAAAAAAAAAAAAAAAAAAAAAAAAAAAAAAAAAAAAAAAAAAAAAAAAAAAAAAAAAAAAAAAAAAAAAAAAAAAAAAAAAAAAAAAAAAAAAAAAAAAAAAAAAAAAAAAAAAAAAAAAAAAAAAAAAAAAAAAAAAAAAAAAAAAAAAAAAAAAAAAAAAAAAAAAAAAAAAAAAAAAAAAAAAAAAAAAAAAAAAAAAAAAAAAAAAAAAAAAAAAAAAAAAAAAAAAAAAAAAAAAAAAAAAAAAAAAAAAAAAAAAAAAAAAAAAAAAAAAAAAAAAAAAAAAAAAAAAAAAAAAAAAAAAAAAAAAAAAAAAAAAAAAAAAAAAAAAAAAAAAAAAAAAAAAAAAAAAAAAAAAAAAAAAAAAAAAAAAAAAAAAAAAAAAAAAAAAAAAAAAAAAAAAAAAAAAAAAAAAAAAAAAAAAAAAAAAAAAAAAAAAAAAAAAAAAAAAAAAAAAAAAAAAAAAAAAAAAAAAAAAAAAAAAAAAAAAAAAAAAAAAAAAAAAAAAAAAAAAAAAAAAAAAAAAAAAAAAAAAAAAAAAAAAAAAAAAAAAAAAAAAAAAAAAAAAAAAAAAAAAAAAAAAAAAAAAAAAAAAAAAAAAAAAAAAAAAAAAAAAAAAAAAAAAAAAAAAAAAAAAAAAAAAAAAAAAAAAAAAAAAAAAAAAAAAAAAAAAAAAAAAAAAAAAAAAAAAAAAAAAAAAAAAAAAAAAAAAAAAAAAAAAAAAAAAAAAAAAAAAAAAAAAAAAAAAAAAAAAAAAAAAAAAAAAAAAAAAAAAAAAAAAAAAAAAAAAAAAAAAAAAAAAAAAAAAAAAAAAAAAAAAAAAAAAAAAAAAAAAAAAAAAAAAAAAAAAAAAAAAAAAAAAAAAAAAAAAAAAAAAAAAAAAAAAAAAAAAAAAAAAAAAAAAAAAAAAAAAAAAAAAAAAAAAAAAAAAAAAAAAAAAAAAAAAAAAAAAAAAAAAAAAAAAAAAAAAAAAAAAAAAAAAAAAAAAAAAAAAAAAAAAAAAAAAAAAAAAAAAAAAAAAAAAAAAAAAAAAAAAAAAAAAAAAAAAAAAAAAAAAAAAAAAAAAAAAAAAAAAAAAAAAAAAAAAAAAAAAAAAAAAAAAAAAAAAAAAAAAAAAAAAAAAAAAAAAAAAAAAAAAAAAAAAAAAAAAAAAAAAAAAAAAAAAAAAAAAAAAAAAAAAAAAAAAAAAAAAAAAAAAAAAAAAAAAAAAAAAAAAAAAAAAAAAAAAAAAAAAAAAAAAAAAAAAAAAAAAAAAAAAAAAAAAAAAAAAAAAAAAAAAAAAAAAAAAAAAAAAAAAAAAAAAAAAAAAAAAAAAAAAAAAAAAAAAAAAAAAAAAAAAAAAAAAAAAAAAAAAAAAAAAAAAAAAAAAAAAAAAAAAAAAAAAAAAAAAAAAAAAAAAAAAAAAAAAAAAAAAAAAAAAAAAAAAAAAAAAAAAAAAAAAAAAAAAAAAAAAAAAAAAAAAAAAAAAAAAAAAAAAAAAAAAAAAAAAAAAAAAAAAAAAAAAAAAAAAAAAAAAAAAAAAAAAAAAAAAAAAAAAAAAAAAAAAAAAAAAAAAAAAAAAAAAAAAAAAAAAAAAAAAAAAAAAAAAAAAAAAAAAAAAAAAAAAAAAAAAAAAAAAAAAAAAAAAAAAAAAAAAAAAAAAAAAAAAAAAAAAAAAAAAAAAAAAAAAAAAAAAAAAAAAAAAAAAAAAAAAAAAAAAAAAAAAAAAAAAAAAAAAAAAAAAAAAAAAAAAAAAAAAAAAAAAAAAAAAAAAAAAAAAAAAAAAAAAAAAAAAAAAAAAAAAAAAAAAAAAAAAAAAAAAAAAAAAAAAAAAAAAAAAAAAAAAAAAAAAAAAAAAAAAAAAAAAAAAAAAAAAAAAAAAAAAAAAAAAAAAAAAAAAAAAAAAAAAAAAAAAAAAAAAAAAAAAAAAAAAAAAAAAAAAAAAAAAAAAAAAAAAAAAAAAAAAAAAAAAAAAAAAAAAAAAAAAAAAAAAAAAAAAAAAAAAAAAAAAAAAAAAAAAAAAAAAAAAAAAAAAAAAAAAAAAAAAAAAAAAAAAAAAAAAAAAAAAAAAAAAAAAAAAAAAAAAAAAAAAAAAAAAAAAAAAAAAAAAAAAAAAAAAAAAAAAAAAAAAAAAAAAAAAAAAAAAAAAAAAAAAAAAAAAAAAAAAAAAAAAAAAAAAAAAAAAAAAAAAAAAAAAAAAAAAAAAAAAAAAAAAAAAAAAAAAAAAAAAAAAAAAAAAAAAAAAAAAAAAAAAAAAAAAAAAAAAAAAAAAAAAAAAAAAAAAAAAAAAAAAAAAAAAAAAAAAAAAAAAAAAAAAAAAAAAAAAAAAAAAAAAAAAAAAAAAAAAAAAAAAAAAAAAAAAAAAAAAAAAAAAAAAAAAAAAAAAAAAAAAAAAAAAAAAAAAAAAAAAAAAAAAAAAAAAAAAAAAAAAAAAAAAAAAAAAAAAAAAAAAAAAAAAAAAAAAAAAAAAAAAAAAAAAAAAAAAAAAAAAAAAAAAAAAAAAAAAAAAAAAAAAAAAAAAAAAAAAAAAAAAAAAAAAAAAAAAAAAAAAAAAAAAAAAAAAAAAAAAAAAAAAAAAAAAAAAAAAAAAAAAMjAyMDowODoxMiAxNzoxNDoyMAAyMDIwOjA4OjEyIDE3OjE0OjIwAAAARQBkAHUAYQByAGQAbwAgAEIAYQByAHQAbwBsAG8AbQBlAHUAIABCAGEAcgBiAG8AcwBhACAAQwBhAHIAbgBlAGkAcgBvACAARgBpAGwAaABvAAAA/+ELPGh0dHA6Ly9ucy5hZG9iZS5jb20veGFwLzEuMC8APD94cGFja2V0IGJlZ2luPSfvu78nIGlkPSdXNU0wTXBDZWhpSHpyZVN6TlRjemtjOWQnPz4NCjx4OnhtcG1ldGEgeG1sbnM6eD0iYWRvYmU6bnM6bWV0YS8iPjxyZGY6UkRGIHhtbG5zOnJkZj0iaHR0cDovL3d3dy53My5vcmcvMTk5OS8wMi8yMi1yZGYtc3ludGF4LW5zIyI+PHJkZjpEZXNjcmlwdGlvbiByZGY6YWJvdXQ9InV1aWQ6ZmFmNWJkZDUtYmEzZC0xMWRhLWFkMzEtZDMzZDc1MTgyZjFiIiB4bWxuczpkYz0iaHR0cDovL3B1cmwub3JnL2RjL2VsZW1lbnRzLzEuMS8iLz48cmRmOkRlc2NyaXB0aW9uIHJkZjphYm91dD0idXVpZDpmYWY1YmRkNS1iYTNkLTExZGEtYWQzMS1kMzNkNzUxODJmMWIiIHhtbG5zOnhtcD0iaHR0cDovL25zLmFkb2JlLmNvbS94YXAvMS4wLyI+PHhtcDpDcmVhdGVEYXRlPjIwMjAtMDgtMTJUMTc6MTQ6MjAuMTIzPC94bXA6Q3JlYXRlRGF0ZT48L3JkZjpEZXNjcmlwdGlvbj48cmRmOkRlc2NyaXB0aW9uIHJkZjphYm91dD0idXVpZDpmYWY1YmRkNS1iYTNkLTExZGEtYWQzMS1kMzNkNzUxODJmMWIiIHhtbG5zOmRjPSJodHRwOi8vcHVybC5vcmcvZGMvZWxlbWVudHMvMS4xLyI+PGRjOmNyZWF0b3I+PHJkZjpTZXEgeG1sbnM6cmRmPSJodHRwOi8vd3d3LnczLm9yZy8xOTk5LzAyLzIyLXJkZi1zeW50YXgtbnMjIj48cmRmOmxpPkVkdWFyZG8gQmFydG9sb21ldSBCYXJib3NhIENhcm5laXJvIEZpbGhvPC9yZGY6bGk+PC9yZGY6U2VxPg0KCQkJPC9kYzpjcmVhdG9yPjwvcmRmOkRlc2NyaXB0aW9uPjwvcmRmOlJERj48L3g6eG1wbWV0YT4NCiAgICAgICAgICAgICAgICAgICAgICAgICAgICAgICAgICAgICAgICAgICAgICAgICAgICAgICAgICAgICAgICAgICAgICAgICAgICAgICAgICAgICAgICAgICAgICAgICAgICAKICAgICAgICAgICAgICAgICAgICAgICAgICAgICAgICAgICAgICAgICAgICAgICAgICAgICAgICAgICAgICAgICAgICAgICAgICAgICAgICAgICAgICAgICAgICAgICAgICAgIAogICAgICAgICAgICAgICAgICAgICAgICAgICAgICAgICAgICAgICAgICAgICAgICAgICAgICAgICAgICAgICAgICAgICAgICAgICAgICAgICAgICAgICAgICAgICAgICAgICAgCiAgICAgICAgICAgICAgICAgICAgICAgICAgICAgICAgICAgICAgICAgICAgICAgICAgICAgICAgICAgICAgICAgICAgICAgICAgICAgICAgICAgICAgICAgICAgICAgICAgICAKICAgICAgICAgICAgICAgICAgICAgICAgICAgICAgICAgICAgICAgICAgICAgICAgICAgICAgICAgICAgICAgICAgICAgICAgICAgICAgICAgICAgICAgICAgICAgICAgICAgIAogICAgICAgICAgICAgICAgICAgICAgICAgICAgICAgICAgICAgICAgICAgICAgICAgICAgICAgICAgICAgICAgICAgICAgICAgICAgICAgICAgICAgICAgICAgICAgICAgICAgCiAgICAgICAgICAgICAgICAgICAgICAgICAgICAgICAgICAgICAgICAgICAgICAgICAgICAgICAgICAgICAgICAgICAgICAgICAgICAgICAgICAgICAgICAgICAgICAgICAgICAKICAgICAgICAgICAgICAgICAgICAgICAgICAgICAgICAgICAgICAgICAgICAgICAgICAgICAgICAgICAgICAgICAgICAgICAgICAgICAgICAgICAgICAgICAgICAgICAgICAgIAogICAgICAgICAgICAgICAgICAgICAgICAgICAgICAgICAgICAgICAgICAgICAgICAgICAgICAgICAgICAgICAgICAgICAgICAgICAgICAgICAgICAgICAgICAgICAgICAgICAgCiAgICAgICAgICAgICAgICAgICAgICAgICAgICAgICAgICAgICAgICAgICAgICAgICAgICAgICAgICAgICAgICAgICAgICAgICAgICAgICAgICAgICAgICAgICAgICAgICAgICAKICAgICAgICAgICAgICAgICAgICAgICAgICAgICAgICAgICAgICAgICAgICAgICAgICAgICAgICAgICAgICAgICAgICAgICAgICAgICAgICAgICAgICAgICAgICAgICAgICAgIAogICAgICAgICAgICAgICAgICAgICAgICAgICAgICAgICAgICAgICAgICAgICAgICAgICAgICAgICAgICAgICAgICAgICAgICAgICAgICAgICAgICAgICAgICAgICAgICAgICAgCiAgICAgICAgICAgICAgICAgICAgICAgICAgICAgICAgICAgICAgICAgICAgICAgICAgICAgICAgICAgICAgICAgICAgICAgICAgICAgICAgICAgICAgICAgICAgICAgICAgICAKICAgICAgICAgICAgICAgICAgICAgICAgICAgICAgICAgICAgICAgICAgICAgICAgICAgICAgICAgICAgICAgICAgICAgICAgICAgICAgICAgICAgICAgICAgICAgICAgICAgIAogICAgICAgICAgICAgICAgICAgICAgICAgICAgICAgICAgICAgICAgICAgICAgICAgICAgICAgICAgICAgICAgICAgICAgICAgICAgICAgICAgICAgICAgICAgICAgICAgICAgCiAgICAgICAgICAgICAgICAgICAgICAgICAgICAgICAgICAgICAgICAgICAgICAgICAgICAgICAgICAgICAgICAgICAgICAgICAgICAgICAgICAgICAgICAgICAgICAgICAgICAKICAgICAgICAgICAgICAgICAgICAgICAgICAgICAgICAgICAgICAgICAgICAgICAgICAgICAgICAgICAgICAgICAgICAgICAgICAgICAgICAgICAgICAgICAgICAgICAgICAgIAogICAgICAgICAgICAgICAgICAgICAgICAgICAgICAgICAgICAgICAgICAgICAgICAgICAgICAgICAgICAgICAgICAgICAgICAgICAgICAgICAgICAgICAgICAgICAgICAgICAgCiAgICAgICAgICAgICAgICAgICAgICAgICAgICAgICAgICAgICAgICAgICAgICAgICAgICAgICAgICAgICAgICAgICAgICAgICAgICAgICAgICAgICAgICAgICAgICAgICAgICAKICAgICAgICAgICAgICAgICAgICAgICAgICAgICAgICAgICAgICAgICAgICAgICAgICAgICAgICAgICAgICAgICAgICAgICAgICAgICAgICAgICAgICAgICAgICAgICAgICAgIAogICAgICAgICAgICAgICAgICAgICAgICAgICAgPD94cGFja2V0IGVuZD0ndyc/Pv/bAEMABwUFBgUEBwYFBggHBwgKEQsKCQkKFQ8QDBEYFRoZGBUYFxseJyEbHSUdFxgiLiIlKCkrLCsaIC8zLyoyJyorKv/bAEMBBwgICgkKFAsLFCocGBwqKioqKioqKioqKioqKioqKioqKioqKioqKioqKioqKioqKioqKioqKioqKioqKioqKv/AABEIAPQBQwMBIgACEQEDEQH/xAAfAAABBQEBAQEBAQAAAAAAAAAAAQIDBAUGBwgJCgv/xAC1EAACAQMDAgQDBQUEBAAAAX0BAgMABBEFEiExQQYTUWEHInEUMoGRoQgjQrHBFVLR8CQzYnKCCQoWFxgZGiUmJygpKjQ1Njc4OTpDREVGR0hJSlNUVVZXWFlaY2RlZmdoaWpzdHV2d3h5eoOEhYaHiImKkpOUlZaXmJmaoqOkpaanqKmqsrO0tba3uLm6wsPExcbHyMnK0tPU1dbX2Nna4eLj5OXm5+jp6vHy8/T19vf4+fr/xAAfAQADAQEBAQEBAQEBAAAAAAAAAQIDBAUGBwgJCgv/xAC1EQACAQIEBAMEBwUEBAABAncAAQIDEQQFITEGEkFRB2FxEyIygQgUQpGhscEJIzNS8BVictEKFiQ04SXxFxgZGiYnKCkqNTY3ODk6Q0RFRkdISUpTVFVWV1hZWmNkZWZnaGlqc3R1dnd4eXqCg4SFhoeIiYqSk5SVlpeYmZqio6Slpqeoqaqys7S1tre4ubrCw8TFxsfIycrS09TV1tfY2dri4+Tl5ufo6ery8/T19vf4+fr/2gAMAwEAAhEDEQA/APpGiikdwi7m6ewzQAtFR+enpJ/37b/Cjz09JP8Av23+FAElFR+enpJ/37b/AAo89PST/v23+FAElFR+enpJ/wB+2/wo89PST/v23+FAElFR+enpJ/37b/Cjz09JP+/bf4UASUVH56ekn/ftv8KQXCHOA/HX923H6UAS0VH56ekn/ftv8KPPT0k/79t/hQBJRUfnp6Sf9+2/wo89PST/AL9t/hQBJRUfnp6Sf9+2/wAKPPT0k/79t/hQBJRUfnp6Sf8Aftv8KQXCEAgOQehEbf4UAS0VH56ekn/ftv8ACjz09JP+/bf4UASUVH56ekn/AH7b/Cjz09JP+/bf4UASUVH56ekn/ftv8KPPT0k/79t/hQBJRUfnp6Sf9+2/wo89PST/AL9t/hQBJRUfnp6Sf9+2/wAKPPT0k/79t/hQBJRUX2hM4w+fTy2/wpfPT0k/79t/hQBJRUfnp6Sf9+2/wo89PST/AL9t/hQBJRUfnp6Sf9+2/wAKPPT0k/79t/hQBJRUfnp6Sf8Aftv8KPPT0k/79t/hQBJRSKwdQy8gjIpaACiiigAqOf8A1Y/31/8AQhUlRz/6sf76/wDoQoAkooqC6vbWxSNr25htlkkWJDNIEDueijPUnsKAJ6Ky/wDhKNA+xm8/tzTfswl8kz/a49nmf3N2cbvbrVjUNX03SbZbjVdQtbKBjhZbmdY1J9AWIFAFyiqr6rp8VvbzyX1skNy4SCRplCysegU5wxODgCs6/wDGWgWHh+71ptVtJ7K1yJHt50fLgfcGDguey9aHpuG5t0Vx9x48tX1vw4um3djNpWqR3L3FyZA3leVGrY3BtqkE4bOfwrqbK/tNStEutOuoLu3f7k0EgdG+jDg07NCuieo4v9ZN/v8A/soqSo4v9ZN/v/8AsopDJKKKgjv7Sae4hiuoHltcfaI1kBaHIyNw/hyOeaAJ6KzZvEeiW1pb3VxrGnxW91/x7zPdIqTf7rE4b8Kk1DW9K0hY21XU7OxWU4jNzcJGHPtuIzQBeoqje63pWnBDqGp2doHjMqGe4RNyDGWGTyBkc+4q6rK6BkIZWGQQcgigBajt/wDj1i/3B/KpKjt/+PWL/cH8qAJKKKo3+uaTpc8UOp6pZWcs3EUdxcJG0n0BIz+FAF6iqF7r2kaa8i6jqtlaNGqu4nuEQorEhScngEggHvinJrOmS6gthHqVo948fmrbrOpkZMZ3Bc5x70AXaKoXGu6RaajHp93qllBey48u2kuEWR89MKTk1YW+tHuprZbqFriBQ8sQkG+NTnBYdQDg4J9KAJ6KoHXtIEFvMdVsRFco0kEn2lNsqKMsynPzADkkdKztY8ceHtF0OHV7nU7aWznkWOGSCZHEpLAHac4IGcnngAmgDoKKitbu3vrWO6sriK5t5V3RywuHRx6gjgipaAI1/wCPp/8AcX+bVJUa/wDH0/8AuL/NqkoAKKonW9KGofYTqdmLzzPL+z/aE8zft3bduc52849OaZB4h0W6muIbbV7CaW1UtcJHcozQgdSwB+UD3oA0aK5KPx5puueHb688MatpSXFrL5bHUZwsafvNm5trZCtztPfit6/1zSdJkij1XVLKyebiNbi4SMv9AxGaAL9FAIIBByD0IooAjt/+PWL/AHB/KpKjt/8Aj1i/3B/KpKACiiigAqOf/Vj/AH1/9CFSVHP/AKsf76/+hCgCSuP+JGmS6tpmjW8dnJeRjWrR540jLgRB/mLAfwgdSeK7Cijqn2af3B0Z5sfCcEni/wAcyyaIpguNPhS2JtvkkYxvvCcYLZCZxz0rP0eyu9GuvDuq+IdCv9RtU8Pw2aLHZtPJZTjlw0WNw3DA3Y7YOK9ZooWn9ev+YPX+vT/I8h/4Ra+fwxo9vcaPMtpP4sF6unmLd9ltGLkK6rkKvOSOg3YNX9Z8M3U2pfEC303SmWLUNJhFsFh2xzTBJAdpxgt0zj2r0+iiWqt/WyX6D63/AK3b/U8zWwGu654DmfQryO0s47kXEd3ZNGInESAF1IwMsOCepHFbvgPTJdLvvFERs5LS2k1h5bZDEURkMaZZOxBOeRxnNdfRVOV3f1/Fp/oSlZJdv+D/AJhUcX+sm/3/AP2UVJUcX+sm/wB//wBlFSMkrzTx/bXum+JkbRUbf4rtv7ImZDgxyA5Wb8Iml/75Fel1kHw3bP4oGuXNxdXM8aFbaCWQGG2yAGKKAMFgOSSepxjNGl9Qu7Ox5/rnhyXTPGM3nRawNGl0yGzs30vTorwRqgIaJ1aJygOQcgAHueBiXUbHULNdO0G2sNTbS00cR292NOjubiRzkGGV2UpEAu3qACe/FepUUPVWf9b/AOYLR3X9bf5HlPhTQr77f8PJNS0y5H9n6TcrK08DD7PJ8gUNkfK2M4Br1aiiqcr/AI/i7kxjb+vKwVHb/wDHrF/uD+VSVHb/APHrF/uD+VSUSV5b4/TWNT1DX9O/sq88htOAspLLTUnN4djFleVlYJtboow3deSK9SopNXGnY8x0Lw7LdeJfP1nSZJVHhW1tw91bkr5nz70+YY3dMjrz71R0jwxPY+D/AIePFo88V/bajE9232dhLErK4cycZA+6DnjoPSvXKKvm1v53/Fv9TPl0t5W/BL9DyG80ueHQPE2gX3hi9v8AWtTu53t75LXfFNvJ8pzN0j2DHBII28VrpHqnhrxhfyXemahqf9o6RbQx3FnCZFaeJWVlc9EzuBBbAr0eiot7vL/W1i+t/wCt0/0PJtB8O3Usfwzj1LSJ2jsbW6+0pPbtiB9i7N4I+U5HGe4qPUvDl6nhfxbBaaNOyJ4hjvLa3jtzmSINCzmJcfNna3TryK9doq3JuXN/W6f6CSXKo/1s1+pW064ju9Ohnht5baORcrFNEYnUe6Hlfoas0UVIyNf+Pp/9xf5tUlRr/wAfT/7i/wA2qSgDiNA067sfFfjnU49NY3M88X2V5UKC4C264Cseq7sjI71yuhWmr33jHwhqFzpeoQCJbiO+jbSltbe1JhP7tcLuK7uAzEqeMc5r2Gimnb7kvwsHR+d/xPHJtMv1+F/iTQk0K/XUI9SaQbbNts8bXYdTGwHzjbzx0xzitm6txpPirxLJrvhq91ldVWP7FPb2f2lTEIwvkE/8s8Nk84BznNelUUvs8vy/BL9A6387mD4H0y+0bwNpGn6sc3lvbKkg3btp7LnvgYH4VvUUU5PmbYkrKxHb/wDHrF/uD+VSVHb/APHrF/uD+VSUhhRRRQAVFcZ8oY4O9cZH+0KlqOf/AFY/31/9CFABtm/56R/9+z/jRtm/56R/9+z/AI1JRQBHtm/56R/9+z/jRtm/56R/9+z/AI1JRQBHtm/56R/9+z/jRtm/56R/9+z/AI1JRQBHtm/56R/9+z/jRtm/56R/9+z/AI1JRQBHtm/56R/9+z/jUcYm8yXDp9/n5D/dHvVio4v9ZN/v/wDsooANs3/PSP8A79n/ABo2zf8APSP/AL9n/GpKKAI9s3/PSP8A79n/ABo2zf8APSP/AL9n/GpKKAI9s3/PSP8A79n/ABo2zf8APSP/AL9n/GpKKAI9s3/PSP8A79n/ABqOATfZ48OgGwYyh9PrVio7f/j1i/3B/KgA2zf89I/+/Z/xo2zf89I/+/Z/xqSigCPbN/z0j/79n/GjbN/z0j/79n/GpKKAI9s3/PSP/v2f8aNs3/PSP/v2f8akooAj2zf89I/+/Z/xo2zf89I/+/Z/xqSigCPbN/z0j/79n/GjbN/z0j/79n/GpKKAK4E32h/nTOxf4D6n3qTbN/z0j/79n/Ghf+Pp/wDcX+bVJQBHtm/56R/9+z/jRtm/56R/9+z/AI1JRQBHtm/56R/9+z/jRtm/56R/9+z/AI1JRQBHtm/56R/9+z/jRtm/56R/9+z/AI1JRQBHb/8AHrF/uD+VSVHb/wDHrF/uD+VSUAFFFFABUc/+rH++v/oQqSo5/wDVj/fX/wBCFAElc94jkmutX0fRo7ia2gvpJZLmSCQxyNHGmdiupBXLMuSCDgEZGa6GsrW9Hl1JrO5sbpbO/sZTJbzPF5qcqVZXTKllIJ6MDkA54wQDJ0mPUN2vaFaanNEbO4jFrdz5uJYo5EVyMuTuIJcKW3Yyud2MVY8CT3M/hfdfXc15Ml7eRmecgu4W5kUZwAOgHAAA7ACtHRtJbTFuZbmdbm9vZfOup1j8tWbaFAVcnaoVQACSfUkmjQNH/sPS2s/P8/dczz79m3/WyvJjGT034z3xnin0DpoaVFFFIAooooAKji/1k3+//wCyipKji/1k3+//AOyigCSuP1aBLLxRpqaVqOoSavcXayz27XsskQtufMZ4iSiJjhWCj5goBznPYVy+leHte0m5neHWNLkW5uWnuJJNLkM0oLdDJ9oxwvyj5cAAcdqF8SYPZox9Qe7v9D8R+JI9RvYLrS5rgWUUVy6QxrbEjDRg7ZN7I2dwJw2ARgY09dl1L+09Av4dVmhs7m8gjNjEiqrbldmLvyzfw4AIHHIPae78J3E8l/awamkWkanKZby0a23SEsAHVJNwCq2OQVY8tgjIxqarpA1JtO2y+SLG7S5ACZ3bQw29Rj73X2oW0fl/wQlre3n/AMD7jmNfu7OTxRe2fiDW7zSVW2jOlrb3b23nMc72QKR50gbaNh3Y+X5fm56Lwnqc+s+ENK1K7GJ7q0jkl+Xblioycdue1GradrF9M0VlrENlZSx7JVFmXnXrkxybwqnB4yjYIzWjZ2kGn2MFnaRiOC3jWKJB/CqjAH5ChaK39dQe5NUdv/x6xf7g/lUlR2//AB6xf7g/lQAswkaBxA6xylSEdl3BTjgkZGfpkVxmlajf6Lp/jCfUdQuNWk0qQyI9wFXIW1jfaFQBVGSeAO/OTk121ZFtoEUU2tm4k8+LV5d7x7duxfJSMrnPOQuc8daTvZ27f5FRaurnNuLrw0dA1NtSvryW/cxagk9y7xyloHl3JGTtjwycBABgkYPGI7M3tnpHh3xJLqN5NealPbi9ie5doHSfjasROxNhZcFQD8vJOTncsPC91HNZLq+ppf2umAiyjFr5b8qUDStuIdghIyoQck46YZp3hO4tPsFpc6klxpOluHsrYW22RSoIQSSbiHCg8YVTkKSTjm7q/wA193VfMzd+Xzt+Pcw/PvT4Xh8YHULz7a94knkfaX+zi3acR+V5Odn+rP3sbt3OabeXN3P4W1jxgNQvo7uwuLhreBLl1gWK3lZPLaIHY+4IxJYFvm4IwMbsXhGZMWD6jG+hpdfao7I2370MJPMCGXfgoH5xsBwACx5ySeEZ2a5so9SRdEu7lrmeza23Sks290WXdgIzckFCcMwDDjCj/X4f1/w5T2/rz/r/AIYm8UXUzvo+l288tsNWvPJlmhfY6xrE8jBWHKkhNuRyMkgg4Nc/fX19ol3qnh/T766KvNYLbXFxM08tstzI0b4d8s2PLZl3ZwW9BgdJqXh+81GR5W1XZNBdpdacfswK2pVNhVgCDIrZfOSDhsAjANQP4Sa80+9/tS+EupXksUxu4IPLWJoiGi2IS3CkZwzNklucEACt/XbT+v8Ahwd/6766jNMhbRPGbaTBdXk9ldWBulS7upLhopEcK2HkJbDB14zgFeAMnPT1kaXo91BqMupaxeQ3t+8QgV7e2MEccYJOApdzkk5JLc4HAxzr0dFf+tf8hdX/AF0I1/4+n/3F/m1SVGv/AB9P/uL/ADapKQzzPxFrMVq3iG5vtbu7PXdPdpdNsUuXRXiRA6FbcHbMjYbcxDY+YZXbxtCKXxbrOrJNfahZRafHFDbpZ3TwbJXiEhkbYRvI3qArZUbTxya1dU0TUtYmmtbzVIRo05HmWsVoVmdOMxmXeRtYg5wgOCRkdabfeH75tUubzRdUjsPt0ax3aSWvnZ2ggPGdy7H2nGSHXhfl4OVry2/rbf8ArqPr/X9aHIf2xqOqaPZarePqsV1Lp9tNZy2fmraCXJMrTbPkC8AnzeNv3ec10uieIrO91qR7i6ulnvCI7a3eKVYY1CllQsRs84glyud4BAx8taM3h2BtL0/SoH8rTLTYslvtyZkQfKhbP3cgEjB3YweCc14/Dd0mrrIdSU6bHdtepa/ZsSCVgcgy7sFMsxxtBzj5sDFW2uby/r+v+HJ6HQUUUVIyO3/49Yv9wfyqSo7f/j1i/wBwfyqSgAooooAKjn/1Y/31/wDQhUlQ3QBgwRkFl/8AQhQBNRVTyYv+eaf98ijyYv8Anmn/AHyKYi3RVTyYv+eaf98ijyYv+eaf98igC3RVTyYv+eaf98ijyYv+eaf98igC3RVTyYv+eaf98ijyYv8Anmn/AHyKALdRxf6yb/f/APZRUHkxf880/wC+RTEhjLyZjXhuPlHoKAL1FVPJi/55p/3yKPJi/wCeaf8AfIoAt0VU8mL/AJ5p/wB8ijyYv+eaf98igC3RVTyYv+eaf98ijyYv+eaf98igC3Udv/x6xf7g/lUHkxf880/75FMhhjMKExqSVH8I9KAL1FVPJi/55p/3yKPJi/55p/3yKALdFVPJi/55p/3yKPJi/wCeaf8AfIoAt0VU8mL/AJ5p/wB8ijyYv+eaf98igC3RVTyYv+eaf98ijyYv+eaf98igC3RVTyYv+eaf98ijyYv+eaf98igCdf8Aj6f/AHF/m1SVREMfnMPLXG0fwj1NP8mL/nmn/fIoAt0VU8mL/nmn/fIo8mL/AJ5p/wB8igC3RVTyYv8Anmn/AHyKPJi/55p/3yKALdFVPJi/55p/3yKPJi/55p/3yKAJ7f8A49Yv9wfyqSo7f/j1i/3B/KpKQwooooAKiuf9T/wJf/QhUtRXP+p/4Ev/AKEKAGVU1LVLTSbX7RfylELhFCIzu7HoqooLMT6AE1brndeKp4u8NSXGBD506KW6CYxHZ+O0OB9aYi/F4i02bSX1GGWV4Ecxsq20hlVwcFDFt37s/wAO3PtUul6zZazFK9hJITC/lyxzQvDJG2AcMjgMvBBGRyDmuetNTi0vVvE1/wCVLPFLfwwQxQDc1xP5KKVXnGc4UkkAbTkjBNa2g6Zd29xfalqvlLfag6M8MJLJAiLtVAxA3EcktgZJ6YAoWuv9f1/XqttDZooooGFFFFABTI/vy/739BT6ZH9+X/e/oKAH1kjxPpZ1RNPaS4SaSUwxvJaSpFI4BO1ZSoRjweAx6H0rWrmZGm8V6jB5EYi0awuxK07533csTHCovZFccufvFcAY+ahbg9i/eeKdIsNRNldXLrKrIsjLBI8cLOcKJJFUpGTkYDEdR6irF5rml6fqFrYXl/BFeXbBYLcuPMk68heuODz0rjrhkHgPxrb3JVrprq8jZCfmZpOIR7kq0YHrwBWtr9qkL+HpXijF0+pW6zShRufaj4BPfGTj6mha8vnb8f8AIJaXt5/h/mamq+J9K0Wbyb+eUOsfmuIbaSbyo/777FOxeD8zYHB9DWojrJGrxsrowBVlOQQe4Ncvq0d9o2qapq1pLpjWVxbobtryVo2tdgI3gKreYCD90lOR97ni/wCDLS4sfA+jWt6pWeKyiV1ZdpU7Rxjtjp+FC1T/AK7h1NumQ/8AHvH/ALo/lT6ZD/x7x/7o/lQAk88dtbyTzttjjUsxxnAH0qjpniDT9WuJbe0edJ4UDvDdWstvJtJIDBZFUkZBGQMZFWr++t9N0+e9vH2QQIXkYKWIA9AOSfYVy17YavqVhrGtTw/Y7uTS5rXT7RTukiBBbc5HG9iE+UZC46nNJuybGldpG1p/inSNUvhaWVy7yurNEzQSJHOqkBjG7KFkAyOUJ65otvFOkXmqCwt7l2mZnSNjBIsUrJncqSldjsMHIViRtb0OOd1Bo73TfBq6IyGTd50HlkfLELWRSR7Aug+pA71FaGKbwJ4LgssCb7RaBEB+ZTGMy59wFcH3zVtJO3ml9/X5EX92/lf/AIB1H/CUaQNWGnfaX88y+Rv8iTyvNxny/N27N/8As7s9sUlx4p0i11T+z5rlxMJFiZhBI0UcjfdR5QuxGORhWYH5l45GeSj2v8Lba0TBvjqSQlAfm+0i83Nn3yGY+2TSSnd8MPEdozL/AGg1/dwbSfmM7znyR9SGjx7EUo6/16f5/kU72/rz/wAjvNQ1G10qxe7v5fKhQgE7SxYk4CqoyWYkgAAEknAqrbeI9KutMub9bryre0JFybmN4GgIGSHRwGXgg8jkEHvWR4ju4G1nw9m4ieO11UR3ahwfLdoJBGH9CWZMZ7lfUVieIvm17WLrIbT4bvSUuiD8oZJiz7vYK8ROe1CV/wCvT/MT018r/mdppWu2GstMli8wlg2+bDcW0kEihvukpIqtg4ODjBwfQ1o1zwHmfEnfDysOlbbgg9C0oMYPvhXNdDR0T/rewdWv62GD/j4f/dX+Zp9MH/Hw/wDur/M0+kMyLzxTpFhqJsrq5dZVZFkZYJHjhZzhRJIqlIycjAYjqPUU7VvE2laJMItQnkV/LMzrDbyTeXGON77FOxevzNgcHng1xmto76b4vvLe6hg01LgtqFnKP3szRxpu2yf8st6qoAKvkYIK7uNzS7qCHxF4om1BlhBit7gecQpW38nvnsGEnsDmk3aN/K/4f1/kh21sa954m0mwuobe5uW3yqjBo4XkRFc4RndQVQMeAWIBwcdKux31vLqE1lG5aeFFeRQpwobOMtjGeM4znGDjBFee2mj31j4D01muvL+3WNtazac9vuknYD5ER9w8slThiQ2AM8YJrW0bUdRsryJZ57CWK51J7O4QRsJ3nCEtJu3Yx8nCbeE2ndxira96xN9L/wBef5HaUUUVIyS3/wCPWL/cH8qkqO3/AOPWL/cH8qkpDCiiigAqK5/1P/Al/wDQhUtRXP8AqOBk7l49fmFADKgvbG01Kze11C1hu7aTG+GeMOjYORlTweQDU37z/ni/5r/jR+8/54v+a/40xFGbQdIuNLj0240qylsIseXavbo0SY6YQjA/KjTNB0jRTIdH0qx08y48w2tskW/HTO0DPU1e/ef88X/Nf8aP3n/PF/zX/GgBaKT95/zxf81/xo/ef88X/Nf8aAFopP3n/PF/zX/Gj95/zxf81/xoAWmR/fl/3v6CnfvP+eL/AJr/AI0xPM3yfumPzeo44HvQBJWMPB3hlboXK+HNJFwH8wSixi3hs53Z25znnNbH7z/ni/5r/jR+8/54v+a/40AVJtH0y41OLUp9OtJb6EbYrp4FMsY54DkZHU9D3NWJbeGcxmeGOUxOJI96g7GHRhnoeTzT/wB5/wA8X/Nf8aP3n/PF/wA1/wAaAKVzomk3moxahd6ZZz3sGPKuZbdGkjwcjaxGRgnPFXqT95/zxf8ANf8AGj95/wA8X/Nf8aAFpkP/AB7x/wC6P5U795/zxf8ANf8AGmQ+Z5EeImI2jnI54+tACXVpb31rJbXtvFc28o2yRTIHRx6EHg1Q0/wzoOk3X2nStE06xn2lfNtrSONsHqMqAcVp/vP+eL/mv+NH7z/ni/5r/jQBUtNH0zT7q4urDTrS1uLk7p5YYFR5TnOWIGW5J6+tEGj6Za6jNqFrp1pDe3AxNcxwKskn+8wGT0HWrf7z/ni/5r/jR+8/54v+a/40AVF0fTE1ZtUXTrRdQddrXYgXzWGMYL4zjAA69qH0fTJNVTVJNOtG1CNdqXbQKZVGCMB8ZAwT37mrf7z/AJ4v+a/40fvP+eL/AJr/AI0AVpNMsJo7qOaxtpEvP+PlWhUifgD5xj5uABz2FLa6bY2WniwsrK3t7MAqLeKJUjAOcjaBjnJ/OrH7z/ni/wCa/wCNH7z/AJ4v+a/40AVtP0vT9Itjb6TY21jAWLGK2hWNST3woAzxVqk/ef8APF/zX/Gj95/zxf8ANf8AGgBo/wCPh/8AdX+Zp9RjzPPb902dq8ZHqfen/vP+eL/mv+NAFC60HR73UYtQvNKsbi9h2+Xcy2yNIm05GGIyMHkVJfaPpmpzQTalp1pdy2zboHuIFkaI8HKkjg8Dp6Crf7z/AJ4v+a/40fvP+eL/AJr/AI0AMe3hlmimkhjeWHPluygsmRg4PbI4qAaVpy6o2prYWov2TY12IV80r6b8ZxwOM1a/ef8APF/zX/Gj95/zxf8ANf8AGgBaKT95/wA8X/Nf8aP3n/PF/wA1/wAaAJbf/j1i/wBwfyqSo7f/AI9Yv9wfyqSkMKKKKACo5/8AVj/fX/0IVJUc/wDqx/vr/wChCgCSiisfXdUu7W4sNO0pYft2oSsqSTqWjhRFLO7KCC2OAACMlhyKANiiud07UtZv7fU9OMljDq+n3CxNcG3cwOrKrq4j3hvutjbv+8Dyam8N6rfX8up2mp/Z5Z9Ouvs5ubVGSObKK/ClmKkbtpG48j3wD+v6+8DcooooAKKKKACo4v8AWTf7/wD7KKkqOL/WTf7/AP7KKAJKKK5vUdR1zSNSs5rmXT57C7vUtRaxW7rMgfIVhIZCGI4JGwcZ545Otg6XOkorj9R8S6wtvq2r6alkdK0eR0lglidproRczFXDBUx8ygFWyV5IB4u6v4g1Kz1bS4rTT4W068uIoXvJZ/mO8McJGBzgKMliOvAPY3t52/HYHpf5/hudHRXN3+p65d6xf2Xh9tPg/s6FHkN7E8nnu4JCDa6+WMD7x3dfu8c62iapHreg2OqQIUjvIEmCMQSu4ZwSPTpQtVcC9Udv/wAesX+4P5VJUdv/AMesX+4P5UASUVT1i+OmaHfXw25tbeSYbunyqTz7cVg+H/Ej3Wh3Wr3+v6Nqdrb2/mzLpcJU25C7mDN50gPHbApXWvkOz08zqqK5K28Qa1Zz6Vca+tiljqxZVigjdZLN/LaVVdyxEnyowJCrzjAIPDLLxLrLQ6Tq99HZppOrzJHHbpE4ntxIP3TNIWKtn5QV2rjd1OOas72/q/Ym+l/6t3Oworjf+Eo1c2Sa+Esxob3ggFv5T/aDEZfKE3mbtv3iG27Pu/xZou/FGrLZX+vWosf7E0+4eKSF43M8yRvslkWTcFTBDYUq2dn3hu4S1/r+u/8AVmM7KisjxBq0+nw2dvpyxPfajcC3tvOBKKdrOzsBgkKqscAjOAMjORjy+KtR0uLUrHUorW71W1kt47Y26tDFcfaG2RkqSxTDBg3LcLkdcA1YHX0Vg6VqWqReIJdG12SznmNsLq3uLSBoVZd211KM78glTkNyG6DHO9QBGv8Ax9P/ALi/zapKjX/j6f8A3F/m1SUAFFcp4lvfE+lJ52n6jpLm4uEgs7SXTZGd2Y8AuLgDgZYkL0UnFS3mqa7eapfWXh9tPQ6ZEhne7hdxPMy7hGoV12Dbglju++OOOTpcOtjpqK4g+NL6/shqek/Y4rSCztrua1uUZ55hMT8iMrAIRgqCQ25uMDHPTadfXGoXl1KgjGnRt5UDbTvldSd75zjbn5RxztJzgim007MVzRooopDI7f8A49Yv9wfyqSo7f/j1i/3B/KpKACiiigAqOf8A1Y/31/8AQhUlRz/6sf76/wDoQoAkrC8Q2d6NR0vV9OtWvZNPkkElqjqryxyLtOwuQu4EKcEjIB57HdooA5SKyu0tdW1DUNBe/OrTp5mlb4WZIVjCANuYRscgkjdj5sAnHNnwpp93ZSahLJZPpdhM6fY9MeVX+zKq4bhCyIGPOxCQMZ4JIHRUUA9QooooAKKKKACo4v8AWTf7/wD7KKkqOL/WTf7/AP7KKAJK4rT/AO1JNf8A7R13wzqtzdrM6W0gmtTb2cRYgMi+fu3FeWfbuOSBgYWu1oo63DpY4m60jV4tP1zw9bac8ttq807xags0YjgSfmTepbfuUlyAqsDleV5xta3pc866JHZR+YlnfxSyZYDbGqMM89eo6c1uUULS3lb8Nget/O/47nJ+JtLN5qpe18O3V3dvAI1vY74W9u3JwlwqyK0iA842OMMQByRW7oWlR6H4fsNLhbelnbpCG243bQBnHbPWr9FC0Vg63Co7f/j1i/3B/KpKjt/+PWL/AHB/KgBt3LLBZzS21u1zMiFkgVgpkIHCgngZ9+K5SXRrzxNq17d3umzaPbzaVLpzLcSRNLOZCDuIiZhtUA4y2cu3A6nsaKVr/wBfId2tjjo9N1bXP7IstY0x7GPSyZJ5zNG6XMgiaIeUFYttO8tlwhGAMHJxHYaVq8+m6JoOoae8EOkSwvNfmWMx3IhHyeWAxfLEKSGVcDcMnjPa0VV3e/z+ZNla3y+Rw8Wi6sdEj8KS6fIlrFdK39piWMxPbrMJAAu7fvIATBXAOTuPGWzaJqo0XUvCi6a8lnqFzOy6ks0YijgmkMjhlLeZvG51ACkE7TuGTt7qihaDOY1q21W8vLa7t9MydFv1mt0+0JuvYmhZH25wEYeYwAYgEr1AORQvNA1PV/7Q1r7GbK/kmtJLWznlQtstpC4V2QsqlyzjgsACpznIHbUUXYaHP6Zb3uoeJG1u/sJtNWK0+yQW9xJG0hy4Z3PlsygfKoHzE8HIHFdBRRS6WF1uRr/x9P8A7i/zapKjX/j6f/cX+bVJQMxrixurvxnaXMsZFhY2rtE24YedztPGc5VAecf8tD71Qnh1bRvEGq3Om6U+pRaqI3Ro5o0EEyoI/wB5vYHYQEOUDHhvl6Z6iilbSw+tzkJPB6RaBoelRWdvPc2cawHVHiQyWiAfO0ZPzKzYwuOhOT05rWXhqaz8S25g0NIWtrtnXVlkjANrsKpbgA+ZwCq7Cuz5d2c13FFVfW/9f1/wSelgooopDI7f/j1i/wBwfyqSo7f/AI9Yv9wfyqSgAooooAKiuf8AUcHB3Lz6fMKlqK5/1P8AwJf/AEIUAR/vP+ez/kv+FH7z/ns/5L/hS0UxCfvP+ez/AJL/AIUfvP8Ans/5L/hS0UAJ+8/57P8Akv8AhR+8/wCez/kv+FLRQAn7z/ns/wCS/wCFH7z/AJ7P+S/4UtFACfvP+ez/AJL/AIUxPM3yfvWHzeg54HtUlMj+/L/vf0FADv3n/PZ/yX/Cj95/z2f8l/wpaKAE/ef89n/Jf8KP3n/PZ/yX/ClooAT95/z2f8l/wo/ef89n/Jf8KWigBP3n/PZ/yX/CmQ+Z5EeJWA2jjA44+lSUyH/j3j/3R/KgB37z/ns/5L/hR+8/57P+S/4UtFACfvP+ez/kv+FH7z/ns/5L/hS0UAJ+8/57P+S/4UfvP+ez/kv+FLRQAn7z/ns/5L/hR+8/57P+S/4UtFACfvP+ez/kv+FH7z/ns/5L/hS0UARjzPPb962dq84Hqfan/vP+ez/kv+FNH/Hw/wDur/M0+gBP3n/PZ/yX/Cj95/z2f8l/wpaKAE/ef89n/Jf8KP3n/PZ/yX/ClooAT95/z2f8l/wo/ef89n/Jf8KWigCS3/49Yv8AcH8qkqO3/wCPWL/cH8qkpDCiiigAqK5/1P8AwJf/AEIVLUVz/qf+BL/6EKAGVzfiWJNR13Q9IvFElhcyTS3ELDKz+WmVRh3XJ3Y77R2rpKz9X0eLV44N089pcW0nm291blRJE2CDjcCpBBIIYEc9M4NMRx41+w8EvrljHJa29ul9HFp1vNKIYYnkhV2XceEQHc59AcAZIBm+G13YPc+I7az1i31OX+0vPaWOdXMu6CLdIACcKX3AY4GMdq63S9Li0q3kRJZZ5ZpDLPcTEGSZyANzYAHQAYAAAAAAo0/SoNOutQngaRm1C4+0yhyCFbYiYXA6YQdc85px0vftb8v8hPZW/rcu0UUUhhRRRQAUyP78v+9/QU+mR/fl/wB7+goAfXF6hpmlTeLrRPD+nxLrEF4txf6hBEA0MZBLJLL1YuDgRkk4IbAABrtK52w8KTaY2LLxHqscBnadoPLtSrFnLMCfI3HJJ5zn3oXxJg9mjm9QsLbUvDfinxDeRKdWsp7r7HdMMyWgtyfLEbHlRldxA4JY5zmtXxBaGXUvDmqS3N35kl9bp9n89hCnyOSdgwCSe7ZIwMY5rUuvCdrc3lxJ9svIrS7kEt3YRunk3DjHLZUuM4GQrKGxyDk50dQ0uHUms2naRfslwtxHsIGWUEAHI6cmhbR8rfhv94S1v8/x2+45PX7CxufE16PEujXWpwTWyJpskdq06wnkOFZQRC+4qd7FeMfN8vG94OvLnUPBOj3d+Wa5ms4nkZiCWJUcnHc9fxqTVNCbVZm8zVtQgtJEEc1nA0axyrznLFC65BwSrLWpFFHBCkUKLHHGoVEUYCgcAAelC0Vv66g9x1Mh/wCPeP8A3R/Kn0yH/j3j/wB0fyoAJkMsLxrI0RZSBImNy57jIIz9Qa4fS9/h3TvG72MlxcSWUpkia5meaR2W0jYZZiSef8BxXd1QttGtba41KUb5P7SlEk6SYK58tY8AY6YUdc96TvZ26r/IqLSaucdNptp4ZXw3qekQKL65kMV3OB+8vQ1vJIxlbq53orZOSO2MmorPT7Wx0Dwv4ht0RtXvLi2N1egfvboT/wCsV26svzZCnIXauMYFdTpvha30+4gd769vIrRSlnb3ToyWqkYwuFDN8vy5csQM88nKWHhS2sLmAreXk1paMWtLGVkMNsSCMrhQxwCQAzMADxjAxd9b+f4dvmZtPlt5W9X3OT+yW58GQeLDGn9utepMb0j96N1wEMO7rs2HZt6e2aS8tYLrwZrfiuaBW1y1urqS3uiP3sHkTMkcaN1VSEAKjg7myDuOeti8J2sV5vF5eGyFx9qTTWZPISXdu3D5d/3vm2ltoPQcDCSeErV72SRby8js5p/tM2nI6eRLLkHcfl3jLAMVDBSRyDlsqOn9en+X9XZTtb+vMg8V/wClzaFpc4zZ6lfeXdJniRFhkk2H1VigBHcZB4Nc5qUa6Pf6toOkj7BptxPpw2W/7tYRPKySqmMbNyoOmOWJHJyewvfDcF8bhpr2+8yS4S5gcSgmzkVQoMQIIA4OQQQdzZBBIpq+FrN9LurS9nub2S8cSTXczgTM642MCgVV27VxtAAIzjJJIml/XoD/AK/HUz9N0+z0Hx22n6Naw2VndacZ5ba3QJGJEkChwo4BIYgnvtGc4rqqzdL0ZdOnluZ7261C7mVUa5utm7YuSFARVUDJJ4GTnknitKjol/W4urf9bDB/x8P/ALq/zNPpg/4+H/3V/mafSGeY+KIYLaHxJd6npN5LrcJe50zUUtmcRRogaPZPjbEFKtlCVJOeG3DOzHpdn4s13Wv+Eis47j7HHDb26TDIt98IkZ0/uuWbG4YPyDnity88OjUb1nvtTvprJnWQ6cxjEBK4xkhN5GQDtL4PcEcUaj4aiv7+S7g1C+097iMRXQtHRRcoM4DblJUgEjchVsHrwML7Nl/Wm/8AmPrf+v6XQ4QRXepeGbHW9W077bLJpts8GrNImdPdMl5MEhgTw37sEuflOABXTaJrEbaw9ze6beR3OoS/Z/tbKhihKgstt97dlfmydu3eWGegrem0W0mjsYMMlrYurx2yYEbFR8m4YyQpAIGeoB7CqyeGbdNXF6Ly8MKztcrYl18lZiCC4+Xf3JwW25OcZq27y/r+v67XJ6f1/Xb+rGzRRRUjJLf/AI9Yv9wfyqSo7f8A49Yv9wfyqSkMKKKKACobogQZPADL/wChCpqjn/1Y/wB9f/QhQBB50X/PRP8AvoUedF/z0T/voVbopiKnnRf89E/76FHnRf8APRP++hVuigCp50X/AD0T/voUedF/z0T/AL6FW6KAKnnRf89E/wC+hR50X/PRP++hVuigCp50X/PRP++hTEmjDyZkXluPmHoKvVHF/rJv9/8A9lFAEHnRf89E/wC+hR50X/PRP++hVuigCp50X/PRP++hR50X/PRP++hVuigCp50X/PRP++hR50X/AD0T/voVbooAqedF/wA9E/76FMhmjEKAyKCFH8Q9KvVHb/8AHrF/uD+VAEHnRf8APRP++hR50X/PRP8AvoVbooAqedF/z0T/AL6FHnRf89E/76FW6KAKnnRf89E/76FHnRf89E/76FW6KAKnnRf89E/76FHnRf8APRP++hVuigCp50X/AD0T/voUedF/z0T/AL6FW6KAKImj85j5i42j+Iepp/nRf89E/wC+hU6/8fT/AO4v82qSgCp50X/PRP8AvoUedF/z0T/voVbooAqedF/z0T/voUedF/z0T/voVbooAqedF/z0T/voUedF/wA9E/76FW6KAI7f/j1i/wBwfyqSo7f/AI9Yv9wfyqSkMKKKKACo5/8AVj/fX/0IVJUc/wDqx/vr/wChCgCSs/V9Yh0eGEyRTXM9zKIbe2twDJM+CcLuIAwASSSAADk1oVzPieeLTNf0HV791h0+2kminuJDhIDImFZj0UZG3J4yw55oAnbxdaJoV3qMlndxyWc6289iwjE6SsyhV+/sOd6kENggjmtLTb64voXe60u701lbAjumhZmHqPLdxj6kGuTU6JfQ+IdU1u5jh0G+vLfybv7S0KSGNIwJBIpGBvAAYHB2jnGK0PB1ys95qqaZfT6jokbx/Y7madrgM5U+YqTMSZEB28ktglhnjAa/r8BPSx1NFFFIYUUUUAFRxf6yb/f/APZRUlRxf6yb/f8A/ZRQBJWJL4mFtqcVte6TqFtbz3H2eK+kEXku5ztGA5dQSMAsgGceozt1wUfijRfEuvQ/bvEGlWlnZXmLbT2vIvtFzOjFVeQFsqu7lUAySFYn+GhfEkD2Zu6h4xtNPurlGsr2e0snVL2/hRDDascHDZYMcBlLFVYKDzjBxYv/ABTpmn6za6VK00l3dSIirFCzKm/dtLvjaudrYBOTjgGuRu7y3s/Dninw3czINYvri7FpZuf3tyJ8mNkXqyjdgsMhdjZxg43/ABHE0MXhqJzuZNUgUn1IjehaqPnb8d/uCWl7ef4bfeW9U8Tx6deTWtvpt/qcltEJroWSIfs6HOM73XcSASFXc3HTkZ17S6gvrOG7s5Vmt541kikU8OpGQR+Brj/EN5b6L4hup7XxJbWN3eW6edpskHnz3G3IQ26h1O88r0cEhfl4Od3wlps+keDtJ0+8z9otrSOOXJzhgoyMjrg8ULVX/rqD3Nio7f8A49Yv9wfyqSo7f/j1i/3B/KgBZpo7eB5p3WOKNSzuxwFAGSSay9E8Tafr8V7LY+ekVnII5HuYGhzlFfIVwGxhhyQPbjBrXriks5tQj8f2VqSJ7iYxRkH+JrOID9TSbsm/K/5FRSbSNbTvF9rqN7awmxvrSG/Vmsbq5RFjuwo3fLhiykrlgHVSQCccGks/GNpe3lsiWV7HZ3kjRWmoyIgguHGThcMXGdrYLKA2OCcjOBLf2viiHw7YaLcI93ZyeddxIfnsgtvJGVkHVG3uF2tgnB44OItPvLbU/DfhfQLOSMarYTWpvLNT+8sxAB5hdeqj5doJwDuGM5q7K9vNL5d/kZt+7fyv6Pt8zpP+Exs/toQWd4bE3X2P+0wqfZ/O3bdn3t/3/k3bdu7jNF14xtLW8lQ2V7JZW8y29zqKInkQSEgbWywc4JALKpUZ5Iw2OWiuYJfBUPhNJYzrsd4kUlkW/eoFuQ5mK9dm0b9/Q5GDkimz3ECeDNb8JSTomu3d3dxQWjH97KJpmZJVXqUCuGLjgBWyRtOFHX+vT+v+GZT2/rTc73V9Wg0eyFxOkszO6xQwQqGkmkbhUUEgZPqSABkkgAmqEfi2xGm311fwXWnyaeyrcWtwitKpbGwAIWD7sgLtJyeOoIrL8R6nZnVNLuRPuh0LUwNSYqwW3D2zhXYkY2jzEJboAckjBxkaqV1W91PxFpjC90uK400+ZB86SrBMzyuhHDhQ45GeUI6jgVv66bag7r+vXQ7LSdeXUryezuLC8028hRZDb3gj3NG2QHUxuykZBHXII5AyM61cvpt5a6744/tTR7qG8sbbTjbvc27h43keQMFDDglQuSM8bh611FHRP+t/6Yur/roRr/x9P/uL/NqkqNf+Pp/9xf5tUlIZz194xtLG4uQbG+ns7KQR3moRKnk2zHGd2XDkKGBYqrAA8ng4n1DxG1nrH9m2ekX+p3At1uHFo8ChEZioz5kqdSp6ZrkPE4CLr2h6L4jtnuNU3q2jrCJLtZpEAOxt/wAkZ4ZiyMANx3DjGh4n/wCEZspZDd63NY6/FYpHAttqEkU823cYwsIbEx3FsKVbJOMHpS+ym/606fP8B9bf1v8A5G9qXiiHTLswyWF7MkSI93PEqFLRXOAXywJ6EnYGwBk4BGdCDUY7nUrqzhjkb7KFEk2BsDsM7Ac5LAYJ4xhhz2rk9Y0+efTrGe4uLiLWdUghhn06JlEN1Io3HzAVLBEyxbYVJUYOeBUGkX89hr8GlprTy3S3rw3GlvFHuaLazG5bC7wWbDb87Pm2gZxVW1t/X9f13Ivpc76iiikUR2//AB6xf7g/lUlR2/8Ax6xf7g/lUlABRRRQAVHP/qx/vr/6EKkpkqs8eExkMDycdCDQA+io903/ADzj/wC/h/wo3Tf884/+/h/woAkoqPdN/wA84/8Av4f8KN03/POP/v4f8KAJKKj3Tf8APOP/AL+H/CjdN/zzj/7+H/CgCSio903/ADzj/wC/h/wo3Tf884/+/h/woAkqOL/WTf7/AP7KKN03/POP/v4f8KaomVnOyM7mz988cAentQBNRUe6b/nnH/38P+FG6b/nnH/38P8AhQBJRUe6b/nnH/38P+FG6b/nnH/38P8AhQBJRUe6b/nnH/38P+FG6b/nnH/38P8AhQBJUdv/AMesX+4P5Ubpv+ecf/fw/wCFNjE0cSJsjO1QM7zz+lAE1FR7pv8AnnH/AN/D/hRum/55x/8Afw/4UASUVHum/wCecf8A38P+FG6b/nnH/wB/D/hQBJRUe6b/AJ5x/wDfw/4Ubpv+ecf/AH8P+FAElFR7pv8AnnH/AN/D/hRum/55x/8Afw/4UASUVHum/wCecf8A38P+FG6b/nnH/wB/D/hQAL/x9P8A7i/zapKhAmErPsj5UDG89s+3vTt03/POP/v4f8KAJKKj3Tf884/+/h/wo3Tf884/+/h/woAkoqPdN/zzj/7+H/CjdN/zzj/7+H/CgCSio903/POP/v4f8KN03/POP/v4f8KAC3/49Yv9wfyqSmRKUhRD1VQDin0AFFFFABRRRQAUUUUAFFFFABRRRQAUUUUAFFFFABRRRQAUUUUAFFFFABRRRQAUUUUAFFFFABRRRQAUUUUAFFFFABRRRQAUUUUAFFFFABRRRQAUUUUAFFFFAH//2Q==)\n"
      ]
    },
    {
      "cell_type": "code",
      "metadata": {
        "id": "C2cwTwIMfipO",
        "colab_type": "code",
        "colab": {}
      },
      "source": [
        "query_exercicio = ''' SELECT month(l.payments[0].payment_date) AS month, year(l.payments[0].payment_date) as year, format_number(sum(payments[0].paid_amount),2) as amount, concat(format_number(sum(payments[0].paid_amount)/(select sum(installment_value) \n",
        "                                                                                                  FROM df_installments_temp \n",
        "                                                                                                 WHERE year(due_date_sub) = year(l.payments[0].payment_date) \n",
        "                                                                                                  and  month(due_date_sub) = month(l.payments[0].payment_date))*100, 0), '%') ratio\n",
        "FROM loan_documents l\n",
        "WHERE year(l.payments[0].payment_date)  = 2018\n",
        "GROUP BY month(l.payments[0].payment_date), year(l.payments[0].payment_date), (select sum(installment_value) \n",
        "                                                                                                  FROM df_installments_temp \n",
        "                                                                                                 WHERE year(due_date_sub) = year(l.payments[0].payment_date) \n",
        "                                                                                                  and  month(due_date_sub) = month(l.payments[0].payment_date))'''\n",
        "\n"
      ],
      "execution_count": 196,
      "outputs": []
    },
    {
      "cell_type": "code",
      "metadata": {
        "id": "Nys_mkeMndQi",
        "colab_type": "code",
        "colab": {}
      },
      "source": [
        "df_questao_1 = spark.sql(query_exercicio)"
      ],
      "execution_count": 197,
      "outputs": []
    },
    {
      "cell_type": "code",
      "metadata": {
        "id": "3OsNODQcs6Ji",
        "colab_type": "code",
        "colab": {
          "base_uri": "https://localhost:8080/",
          "height": 126
        },
        "outputId": "86b8cc6a-786e-4cd9-d80e-c19b818f1901"
      },
      "source": [
        "df_questao_1.printSchema()"
      ],
      "execution_count": 198,
      "outputs": [
        {
          "output_type": "stream",
          "text": [
            "root\n",
            " |-- month: integer (nullable = true)\n",
            " |-- year: integer (nullable = true)\n",
            " |-- amount: string (nullable = true)\n",
            " |-- ratio: string (nullable = true)\n",
            "\n"
          ],
          "name": "stdout"
        }
      ]
    },
    {
      "cell_type": "code",
      "metadata": {
        "id": "j8bmhykE0vNR",
        "colab_type": "code",
        "colab": {
          "base_uri": "https://localhost:8080/",
          "height": 308
        },
        "outputId": "8f68dec5-cd52-4270-dc24-3d1f89e44996"
      },
      "source": [
        "df_questao_1.show(10)"
      ],
      "execution_count": 199,
      "outputs": [
        {
          "output_type": "stream",
          "text": [
            "+-----+----+----------+-----+\n",
            "|month|year|    amount|ratio|\n",
            "+-----+----+----------+-----+\n",
            "|    6|2018| 74,936.16| 319%|\n",
            "|    5|2018| 65,322.72|  52%|\n",
            "|    4|2018|317,653.92| 250%|\n",
            "|    4|2018|317,653.92| 255%|\n",
            "|    1|2018|364,010.22| 686%|\n",
            "|    1|2018|364,010.22| 265%|\n",
            "|    1|2018|364,010.22| 272%|\n",
            "|    5|2018| 65,322.72|  67%|\n",
            "|    3|2018| 86,398.56| 167%|\n",
            "|    2|2018|474,524.64| 362%|\n",
            "+-----+----+----------+-----+\n",
            "only showing top 10 rows\n",
            "\n"
          ],
          "name": "stdout"
        }
      ]
    },
    {
      "cell_type": "code",
      "metadata": {
        "id": "RdUiS1awbVdT",
        "colab_type": "code",
        "colab": {}
      },
      "source": [
        "import matplotlib.pyplot as plt"
      ],
      "execution_count": 202,
      "outputs": []
    },
    {
      "cell_type": "code",
      "metadata": {
        "id": "nzjb8a_5bv3E",
        "colab_type": "code",
        "colab": {
          "base_uri": "https://localhost:8080/",
          "height": 574
        },
        "outputId": "c9f5de44-6bc1-4398-ff02-87681065c113"
      },
      "source": [
        "plt.plot(df_questao_1.select('month', 'ratio').collect())"
      ],
      "execution_count": 203,
      "outputs": [
        {
          "output_type": "error",
          "ename": "TypeError",
          "evalue": "ignored",
          "traceback": [
            "\u001b[0;31m---------------------------------------------------------------------------\u001b[0m",
            "\u001b[0;31mTypeError\u001b[0m                                 Traceback (most recent call last)",
            "\u001b[0;32m<ipython-input-203-30f79518dc4d>\u001b[0m in \u001b[0;36m<module>\u001b[0;34m()\u001b[0m\n\u001b[0;32m----> 1\u001b[0;31m \u001b[0mplt\u001b[0m\u001b[0;34m.\u001b[0m\u001b[0mplot\u001b[0m\u001b[0;34m(\u001b[0m\u001b[0mdf_questao_1\u001b[0m\u001b[0;34m.\u001b[0m\u001b[0mselect\u001b[0m\u001b[0;34m(\u001b[0m\u001b[0;34m'month'\u001b[0m\u001b[0;34m,\u001b[0m \u001b[0;34m'ratio'\u001b[0m\u001b[0;34m)\u001b[0m\u001b[0;34m.\u001b[0m\u001b[0mcollect\u001b[0m\u001b[0;34m(\u001b[0m\u001b[0;34m)\u001b[0m\u001b[0;34m)\u001b[0m\u001b[0;34m\u001b[0m\u001b[0;34m\u001b[0m\u001b[0m\n\u001b[0m",
            "\u001b[0;32m/usr/local/lib/python3.6/dist-packages/matplotlib/pyplot.py\u001b[0m in \u001b[0;36mplot\u001b[0;34m(scalex, scaley, data, *args, **kwargs)\u001b[0m\n\u001b[1;32m   2761\u001b[0m     return gca().plot(\n\u001b[1;32m   2762\u001b[0m         *args, scalex=scalex, scaley=scaley, **({\"data\": data} if data\n\u001b[0;32m-> 2763\u001b[0;31m         is not None else {}), **kwargs)\n\u001b[0m\u001b[1;32m   2764\u001b[0m \u001b[0;34m\u001b[0m\u001b[0m\n\u001b[1;32m   2765\u001b[0m \u001b[0;34m\u001b[0m\u001b[0m\n",
            "\u001b[0;32m/usr/local/lib/python3.6/dist-packages/matplotlib/axes/_axes.py\u001b[0m in \u001b[0;36mplot\u001b[0;34m(self, scalex, scaley, data, *args, **kwargs)\u001b[0m\n\u001b[1;32m   1645\u001b[0m         \"\"\"\n\u001b[1;32m   1646\u001b[0m         \u001b[0mkwargs\u001b[0m \u001b[0;34m=\u001b[0m \u001b[0mcbook\u001b[0m\u001b[0;34m.\u001b[0m\u001b[0mnormalize_kwargs\u001b[0m\u001b[0;34m(\u001b[0m\u001b[0mkwargs\u001b[0m\u001b[0;34m,\u001b[0m \u001b[0mmlines\u001b[0m\u001b[0;34m.\u001b[0m\u001b[0mLine2D\u001b[0m\u001b[0;34m)\u001b[0m\u001b[0;34m\u001b[0m\u001b[0;34m\u001b[0m\u001b[0m\n\u001b[0;32m-> 1647\u001b[0;31m         \u001b[0mlines\u001b[0m \u001b[0;34m=\u001b[0m \u001b[0;34m[\u001b[0m\u001b[0;34m*\u001b[0m\u001b[0mself\u001b[0m\u001b[0;34m.\u001b[0m\u001b[0m_get_lines\u001b[0m\u001b[0;34m(\u001b[0m\u001b[0;34m*\u001b[0m\u001b[0margs\u001b[0m\u001b[0;34m,\u001b[0m \u001b[0mdata\u001b[0m\u001b[0;34m=\u001b[0m\u001b[0mdata\u001b[0m\u001b[0;34m,\u001b[0m \u001b[0;34m**\u001b[0m\u001b[0mkwargs\u001b[0m\u001b[0;34m)\u001b[0m\u001b[0;34m]\u001b[0m\u001b[0;34m\u001b[0m\u001b[0;34m\u001b[0m\u001b[0m\n\u001b[0m\u001b[1;32m   1648\u001b[0m         \u001b[0;32mfor\u001b[0m \u001b[0mline\u001b[0m \u001b[0;32min\u001b[0m \u001b[0mlines\u001b[0m\u001b[0;34m:\u001b[0m\u001b[0;34m\u001b[0m\u001b[0;34m\u001b[0m\u001b[0m\n\u001b[1;32m   1649\u001b[0m             \u001b[0mself\u001b[0m\u001b[0;34m.\u001b[0m\u001b[0madd_line\u001b[0m\u001b[0;34m(\u001b[0m\u001b[0mline\u001b[0m\u001b[0;34m)\u001b[0m\u001b[0;34m\u001b[0m\u001b[0;34m\u001b[0m\u001b[0m\n",
            "\u001b[0;32m/usr/local/lib/python3.6/dist-packages/matplotlib/axes/_base.py\u001b[0m in \u001b[0;36m__call__\u001b[0;34m(self, *args, **kwargs)\u001b[0m\n\u001b[1;32m    214\u001b[0m                 \u001b[0mthis\u001b[0m \u001b[0;34m+=\u001b[0m \u001b[0margs\u001b[0m\u001b[0;34m[\u001b[0m\u001b[0;36m0\u001b[0m\u001b[0;34m]\u001b[0m\u001b[0;34m,\u001b[0m\u001b[0;34m\u001b[0m\u001b[0;34m\u001b[0m\u001b[0m\n\u001b[1;32m    215\u001b[0m                 \u001b[0margs\u001b[0m \u001b[0;34m=\u001b[0m \u001b[0margs\u001b[0m\u001b[0;34m[\u001b[0m\u001b[0;36m1\u001b[0m\u001b[0;34m:\u001b[0m\u001b[0;34m]\u001b[0m\u001b[0;34m\u001b[0m\u001b[0;34m\u001b[0m\u001b[0m\n\u001b[0;32m--> 216\u001b[0;31m             \u001b[0;32myield\u001b[0m \u001b[0;32mfrom\u001b[0m \u001b[0mself\u001b[0m\u001b[0;34m.\u001b[0m\u001b[0m_plot_args\u001b[0m\u001b[0;34m(\u001b[0m\u001b[0mthis\u001b[0m\u001b[0;34m,\u001b[0m \u001b[0mkwargs\u001b[0m\u001b[0;34m)\u001b[0m\u001b[0;34m\u001b[0m\u001b[0;34m\u001b[0m\u001b[0m\n\u001b[0m\u001b[1;32m    217\u001b[0m \u001b[0;34m\u001b[0m\u001b[0m\n\u001b[1;32m    218\u001b[0m     \u001b[0;32mdef\u001b[0m \u001b[0mget_next_color\u001b[0m\u001b[0;34m(\u001b[0m\u001b[0mself\u001b[0m\u001b[0;34m)\u001b[0m\u001b[0;34m:\u001b[0m\u001b[0;34m\u001b[0m\u001b[0;34m\u001b[0m\u001b[0m\n",
            "\u001b[0;32m/usr/local/lib/python3.6/dist-packages/matplotlib/axes/_base.py\u001b[0m in \u001b[0;36m_plot_args\u001b[0;34m(self, tup, kwargs)\u001b[0m\n\u001b[1;32m    337\u001b[0m             \u001b[0mself\u001b[0m\u001b[0;34m.\u001b[0m\u001b[0maxes\u001b[0m\u001b[0;34m.\u001b[0m\u001b[0mxaxis\u001b[0m\u001b[0;34m.\u001b[0m\u001b[0mupdate_units\u001b[0m\u001b[0;34m(\u001b[0m\u001b[0mx\u001b[0m\u001b[0;34m)\u001b[0m\u001b[0;34m\u001b[0m\u001b[0;34m\u001b[0m\u001b[0m\n\u001b[1;32m    338\u001b[0m         \u001b[0;32mif\u001b[0m \u001b[0mself\u001b[0m\u001b[0;34m.\u001b[0m\u001b[0maxes\u001b[0m\u001b[0;34m.\u001b[0m\u001b[0myaxis\u001b[0m \u001b[0;32mis\u001b[0m \u001b[0;32mnot\u001b[0m \u001b[0;32mNone\u001b[0m\u001b[0;34m:\u001b[0m\u001b[0;34m\u001b[0m\u001b[0;34m\u001b[0m\u001b[0m\n\u001b[0;32m--> 339\u001b[0;31m             \u001b[0mself\u001b[0m\u001b[0;34m.\u001b[0m\u001b[0maxes\u001b[0m\u001b[0;34m.\u001b[0m\u001b[0myaxis\u001b[0m\u001b[0;34m.\u001b[0m\u001b[0mupdate_units\u001b[0m\u001b[0;34m(\u001b[0m\u001b[0my\u001b[0m\u001b[0;34m)\u001b[0m\u001b[0;34m\u001b[0m\u001b[0;34m\u001b[0m\u001b[0m\n\u001b[0m\u001b[1;32m    340\u001b[0m \u001b[0;34m\u001b[0m\u001b[0m\n\u001b[1;32m    341\u001b[0m         \u001b[0;32mif\u001b[0m \u001b[0mx\u001b[0m\u001b[0;34m.\u001b[0m\u001b[0mshape\u001b[0m\u001b[0;34m[\u001b[0m\u001b[0;36m0\u001b[0m\u001b[0;34m]\u001b[0m \u001b[0;34m!=\u001b[0m \u001b[0my\u001b[0m\u001b[0;34m.\u001b[0m\u001b[0mshape\u001b[0m\u001b[0;34m[\u001b[0m\u001b[0;36m0\u001b[0m\u001b[0;34m]\u001b[0m\u001b[0;34m:\u001b[0m\u001b[0;34m\u001b[0m\u001b[0;34m\u001b[0m\u001b[0m\n",
            "\u001b[0;32m/usr/local/lib/python3.6/dist-packages/matplotlib/axis.py\u001b[0m in \u001b[0;36mupdate_units\u001b[0;34m(self, data)\u001b[0m\n\u001b[1;32m   1514\u001b[0m         \u001b[0mneednew\u001b[0m \u001b[0;34m=\u001b[0m \u001b[0mself\u001b[0m\u001b[0;34m.\u001b[0m\u001b[0mconverter\u001b[0m \u001b[0;34m!=\u001b[0m \u001b[0mconverter\u001b[0m\u001b[0;34m\u001b[0m\u001b[0;34m\u001b[0m\u001b[0m\n\u001b[1;32m   1515\u001b[0m         \u001b[0mself\u001b[0m\u001b[0;34m.\u001b[0m\u001b[0mconverter\u001b[0m \u001b[0;34m=\u001b[0m \u001b[0mconverter\u001b[0m\u001b[0;34m\u001b[0m\u001b[0;34m\u001b[0m\u001b[0m\n\u001b[0;32m-> 1516\u001b[0;31m         \u001b[0mdefault\u001b[0m \u001b[0;34m=\u001b[0m \u001b[0mself\u001b[0m\u001b[0;34m.\u001b[0m\u001b[0mconverter\u001b[0m\u001b[0;34m.\u001b[0m\u001b[0mdefault_units\u001b[0m\u001b[0;34m(\u001b[0m\u001b[0mdata\u001b[0m\u001b[0;34m,\u001b[0m \u001b[0mself\u001b[0m\u001b[0;34m)\u001b[0m\u001b[0;34m\u001b[0m\u001b[0;34m\u001b[0m\u001b[0m\n\u001b[0m\u001b[1;32m   1517\u001b[0m         \u001b[0;32mif\u001b[0m \u001b[0mdefault\u001b[0m \u001b[0;32mis\u001b[0m \u001b[0;32mnot\u001b[0m \u001b[0;32mNone\u001b[0m \u001b[0;32mand\u001b[0m \u001b[0mself\u001b[0m\u001b[0;34m.\u001b[0m\u001b[0munits\u001b[0m \u001b[0;32mis\u001b[0m \u001b[0;32mNone\u001b[0m\u001b[0;34m:\u001b[0m\u001b[0;34m\u001b[0m\u001b[0;34m\u001b[0m\u001b[0m\n\u001b[1;32m   1518\u001b[0m             \u001b[0mself\u001b[0m\u001b[0;34m.\u001b[0m\u001b[0mset_units\u001b[0m\u001b[0;34m(\u001b[0m\u001b[0mdefault\u001b[0m\u001b[0;34m)\u001b[0m\u001b[0;34m\u001b[0m\u001b[0;34m\u001b[0m\u001b[0m\n",
            "\u001b[0;32m/usr/local/lib/python3.6/dist-packages/matplotlib/category.py\u001b[0m in \u001b[0;36mdefault_units\u001b[0;34m(data, axis)\u001b[0m\n\u001b[1;32m    105\u001b[0m         \u001b[0;31m# the conversion call stack is default_units -> axis_info -> convert\u001b[0m\u001b[0;34m\u001b[0m\u001b[0;34m\u001b[0m\u001b[0;34m\u001b[0m\u001b[0m\n\u001b[1;32m    106\u001b[0m         \u001b[0;32mif\u001b[0m \u001b[0maxis\u001b[0m\u001b[0;34m.\u001b[0m\u001b[0munits\u001b[0m \u001b[0;32mis\u001b[0m \u001b[0;32mNone\u001b[0m\u001b[0;34m:\u001b[0m\u001b[0;34m\u001b[0m\u001b[0;34m\u001b[0m\u001b[0m\n\u001b[0;32m--> 107\u001b[0;31m             \u001b[0maxis\u001b[0m\u001b[0;34m.\u001b[0m\u001b[0mset_units\u001b[0m\u001b[0;34m(\u001b[0m\u001b[0mUnitData\u001b[0m\u001b[0;34m(\u001b[0m\u001b[0mdata\u001b[0m\u001b[0;34m)\u001b[0m\u001b[0;34m)\u001b[0m\u001b[0;34m\u001b[0m\u001b[0;34m\u001b[0m\u001b[0m\n\u001b[0m\u001b[1;32m    108\u001b[0m         \u001b[0;32melse\u001b[0m\u001b[0;34m:\u001b[0m\u001b[0;34m\u001b[0m\u001b[0;34m\u001b[0m\u001b[0m\n\u001b[1;32m    109\u001b[0m             \u001b[0maxis\u001b[0m\u001b[0;34m.\u001b[0m\u001b[0munits\u001b[0m\u001b[0;34m.\u001b[0m\u001b[0mupdate\u001b[0m\u001b[0;34m(\u001b[0m\u001b[0mdata\u001b[0m\u001b[0;34m)\u001b[0m\u001b[0;34m\u001b[0m\u001b[0;34m\u001b[0m\u001b[0m\n",
            "\u001b[0;32m/usr/local/lib/python3.6/dist-packages/matplotlib/category.py\u001b[0m in \u001b[0;36m__init__\u001b[0;34m(self, data)\u001b[0m\n\u001b[1;32m    173\u001b[0m         \u001b[0mself\u001b[0m\u001b[0;34m.\u001b[0m\u001b[0m_counter\u001b[0m \u001b[0;34m=\u001b[0m \u001b[0mitertools\u001b[0m\u001b[0;34m.\u001b[0m\u001b[0mcount\u001b[0m\u001b[0;34m(\u001b[0m\u001b[0;34m)\u001b[0m\u001b[0;34m\u001b[0m\u001b[0;34m\u001b[0m\u001b[0m\n\u001b[1;32m    174\u001b[0m         \u001b[0;32mif\u001b[0m \u001b[0mdata\u001b[0m \u001b[0;32mis\u001b[0m \u001b[0;32mnot\u001b[0m \u001b[0;32mNone\u001b[0m\u001b[0;34m:\u001b[0m\u001b[0;34m\u001b[0m\u001b[0;34m\u001b[0m\u001b[0m\n\u001b[0;32m--> 175\u001b[0;31m             \u001b[0mself\u001b[0m\u001b[0;34m.\u001b[0m\u001b[0mupdate\u001b[0m\u001b[0;34m(\u001b[0m\u001b[0mdata\u001b[0m\u001b[0;34m)\u001b[0m\u001b[0;34m\u001b[0m\u001b[0;34m\u001b[0m\u001b[0m\n\u001b[0m\u001b[1;32m    176\u001b[0m \u001b[0;34m\u001b[0m\u001b[0m\n\u001b[1;32m    177\u001b[0m     \u001b[0;34m@\u001b[0m\u001b[0mstaticmethod\u001b[0m\u001b[0;34m\u001b[0m\u001b[0;34m\u001b[0m\u001b[0m\n",
            "\u001b[0;32m/usr/local/lib/python3.6/dist-packages/matplotlib/category.py\u001b[0m in \u001b[0;36mupdate\u001b[0;34m(self, data)\u001b[0m\n\u001b[1;32m    208\u001b[0m         \u001b[0;31m# check if convertible to number:\u001b[0m\u001b[0;34m\u001b[0m\u001b[0;34m\u001b[0m\u001b[0;34m\u001b[0m\u001b[0m\n\u001b[1;32m    209\u001b[0m         \u001b[0mconvertible\u001b[0m \u001b[0;34m=\u001b[0m \u001b[0;32mTrue\u001b[0m\u001b[0;34m\u001b[0m\u001b[0;34m\u001b[0m\u001b[0m\n\u001b[0;32m--> 210\u001b[0;31m         \u001b[0;32mfor\u001b[0m \u001b[0mval\u001b[0m \u001b[0;32min\u001b[0m \u001b[0mOrderedDict\u001b[0m\u001b[0;34m.\u001b[0m\u001b[0mfromkeys\u001b[0m\u001b[0;34m(\u001b[0m\u001b[0mdata\u001b[0m\u001b[0;34m)\u001b[0m\u001b[0;34m:\u001b[0m\u001b[0;34m\u001b[0m\u001b[0;34m\u001b[0m\u001b[0m\n\u001b[0m\u001b[1;32m    211\u001b[0m             \u001b[0;31m# OrderedDict just iterates over unique values in data.\u001b[0m\u001b[0;34m\u001b[0m\u001b[0;34m\u001b[0m\u001b[0;34m\u001b[0m\u001b[0m\n\u001b[1;32m    212\u001b[0m             \u001b[0mcbook\u001b[0m\u001b[0;34m.\u001b[0m\u001b[0m_check_isinstance\u001b[0m\u001b[0;34m(\u001b[0m\u001b[0;34m(\u001b[0m\u001b[0mstr\u001b[0m\u001b[0;34m,\u001b[0m \u001b[0mbytes\u001b[0m\u001b[0;34m)\u001b[0m\u001b[0;34m,\u001b[0m \u001b[0mvalue\u001b[0m\u001b[0;34m=\u001b[0m\u001b[0mval\u001b[0m\u001b[0;34m)\u001b[0m\u001b[0;34m\u001b[0m\u001b[0;34m\u001b[0m\u001b[0m\n",
            "\u001b[0;31mTypeError\u001b[0m: unhashable type: 'numpy.ndarray'"
          ]
        },
        {
          "output_type": "display_data",
          "data": {
            "image/png": "[encoded data removed]",
            "text/plain": [
              "<Figure size 432x288 with 1 Axes>"
            ]
          },
          "metadata": {
            "tags": [],
            "needs_background": "light"
          }
        }
      ]
    },
    {
      "cell_type": "markdown",
      "metadata": {
        "id": "IfVnmz-RGN4X",
        "colab_type": "text"
      },
      "source": [
        "Tomei a liberdade de por par ao ano de 2018, pois há poucos meses em 2019\n"
      ]
    },
    {
      "cell_type": "markdown",
      "metadata": {
        "id": "_rxXRgNbTe2E",
        "colab_type": "text"
      },
      "source": [
        "2)Para cada mês de 2019*, quais eram as características médias da carteira (key portfolio highlights)? Ex: Um investidor deseja saber qual é o prazo médio (avg_period), taxa de juros média (avg_interest_rate) e dia de vencimento mais frequente (freq_payday), e para isso deverá ser construída uma query com os seguintes campos:\n",
        "\n",
        "![image.png](data:image/png;base64,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)"
      ]
    },
    {
      "cell_type": "code",
      "metadata": {
        "id": "RwvisoTO7V6k",
        "colab_type": "code",
        "colab": {}
      },
      "source": [
        "query_exercicio = ''' \n",
        "SELECT  month(l.accepted_at) as month, year(l.accepted_at) as year, format_number(avg(period), 1) as avg_period, concat(format_number(avg(interest_rate), 1), '%') as avg_interest_ratio, fqt.payday\n",
        "from loan_documents l\n",
        "inner join\n",
        "(SELECT * FROM \n",
        "         (SELECT date_format(accepted_at, 'yMM') ano_mes, payday, COUNT(*),  DENSE_RANK() OVER (PARTITION BY  date_format(accepted_at, 'yMM') ORDER BY COUNT(*) DESC) as rank\n",
        "            FROM loan_documents \n",
        "           GROUP BY payday,  date_format(accepted_at, 'yMM')\n",
        "         ) WHERE rank = 1\n",
        ") fqt\n",
        " on ano_mes = date_format(l.accepted_at, 'yMM')\n",
        "where year(l.accepted_at) = 2017\n",
        "group by month(l.accepted_at), year(l.accepted_at),fqt.payday   '''"
      ],
      "execution_count": 204,
      "outputs": []
    },
    {
      "cell_type": "code",
      "metadata": {
        "id": "s0LMOLVH7k9O",
        "colab_type": "code",
        "colab": {}
      },
      "source": [
        "df_questao_2 = spark.sql(query_exercicio)\n",
        "\n"
      ],
      "execution_count": 205,
      "outputs": []
    },
    {
      "cell_type": "code",
      "metadata": {
        "id": "1k_UdGLYFHDr",
        "colab_type": "code",
        "colab": {
          "base_uri": "https://localhost:8080/",
          "height": 181
        },
        "outputId": "2f4484b1-13a9-4879-b93f-f27300eeffd9"
      },
      "source": [
        "df_questao_2.show()"
      ],
      "execution_count": 206,
      "outputs": [
        {
          "output_type": "stream",
          "text": [
            "+-----+----+----------+------------------+------+\n",
            "|month|year|avg_period|avg_interest_ratio|payday|\n",
            "+-----+----+----------+------------------+------+\n",
            "|    9|2017|      12.0|              7.5%|    25|\n",
            "|    4|2017|      11.7|              6.8%|    15|\n",
            "|    5|2017|      11.8|              7.1%|    25|\n",
            "|    6|2017|      11.8|              6.9%|    15|\n",
            "+-----+----+----------+------------------+------+\n",
            "\n"
          ],
          "name": "stdout"
        }
      ]
    },
    {
      "cell_type": "markdown",
      "metadata": {
        "id": "kyPlWdZUeAMt",
        "colab_type": "text"
      },
      "source": [
        "3) Para o portfolio como um todo, como se dá a distribuição dos contratos entre os diferentes prazos e taxas? Ex: Do total de contratos (loan_id), quantos possuem 6 meses de duração e taxa de 5.74%, ou 12 meses de duração e 5.15% de juros? A query deve retornar uma matriz semelhante a exemplificada abaixo:"
      ]
    },
    {
      "cell_type": "markdown",
      "metadata": {
        "id": "tQu2Rl7wgKE9",
        "colab_type": "text"
      },
      "source": [
        "![image.png](data:image/png;base64,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)"
      ]
    },
    {
      "cell_type": "code",
      "metadata": {
        "id": "NbpxSwbogO3S",
        "colab_type": "code",
        "colab": {}
      },
      "source": [
        "query_exercicio = ''' SELECT L.period, L.interest_rate, count(L.loan_id) as count_loan_id, concat(format_number(avg(l.interest_rate), 1), '%')  as avg_interest_ratio\n",
        "                   , fqt.payday as fraq_payday\n",
        "                     FROM \n",
        "                      loan_documents L\n",
        "                     INNER JOIN \n",
        "                     (SELECT * FROM \n",
        "                      (SELECT interest_rate, period,payday, COUNT(*),  DENSE_RANK() OVER (PARTITION BY  interest_rate, period ORDER BY COUNT(*) DESC) as rank\n",
        "                        FROM loan_documents \n",
        "                       GROUP BY payday,  interest_rate, period\n",
        "                      ) WHERE rank = 1) fqt\n",
        "                     on l.period = fqt.period and l.interest_rate = fqt.interest_rate\n",
        "                    group by L.period, L.interest_rate, fqt.payday'''\n",
        "                          "
      ],
      "execution_count": 207,
      "outputs": []
    },
    {
      "cell_type": "code",
      "metadata": {
        "id": "wIZQUhPbhXpP",
        "colab_type": "code",
        "colab": {}
      },
      "source": [
        "df_questao_3 = spark.sql(query_exercicio)"
      ],
      "execution_count": 208,
      "outputs": []
    },
    {
      "cell_type": "code",
      "metadata": {
        "id": "kPeeFO8BmJTX",
        "colab_type": "code",
        "colab": {
          "base_uri": "https://localhost:8080/",
          "height": 308
        },
        "outputId": "dbb9586c-63ed-4beb-d32e-349a09e79081"
      },
      "source": [
        "df_questao_3.show()"
      ],
      "execution_count": 209,
      "outputs": [
        {
          "output_type": "stream",
          "text": [
            "+------+-------------+-------------+------------------+-----------+\n",
            "|period|interest_rate|count_loan_id|avg_interest_ratio|fraq_payday|\n",
            "+------+-------------+-------------+------------------+-----------+\n",
            "|    12|         3.12|        11954|              3.1%|         25|\n",
            "|     6|         3.68|          360|              3.7%|         15|\n",
            "|     9|         3.25|          405|              3.2%|         15|\n",
            "|     9|         5.23|           81|              5.2%|         25|\n",
            "|    12|         5.15|         1296|              5.1%|         15|\n",
            "|    12|         7.55|        83530|              7.6%|         15|\n",
            "|     6|         8.01|         1440|              8.0%|         25|\n",
            "|     9|         7.49|         3565|              7.5%|         25|\n",
            "|     6|         5.74|           72|              5.7%|         25|\n",
            "|     6|         5.74|           72|              5.7%|         15|\n",
            "|    12|         7.49|          144|              7.5%|         15|\n",
            "+------+-------------+-------------+------------------+-----------+\n",
            "\n"
          ],
          "name": "stdout"
        }
      ]
    },
    {
      "cell_type": "code",
      "metadata": {
        "id": "KIFgOMzxZfph",
        "colab_type": "code",
        "colab": {}
      },
      "source": [
        "df_questao_3.createOrReplaceTempView('df_questao_3_temp_to_plot')"
      ],
      "execution_count": 265,
      "outputs": []
    },
    {
      "cell_type": "code",
      "metadata": {
        "id": "A75ESVugZlK7",
        "colab_type": "code",
        "colab": {}
      },
      "source": [
        "df_questao_3_to_plot = spark.sql('select * from df_questao_3_temp_to_plot')"
      ],
      "execution_count": 267,
      "outputs": []
    },
    {
      "cell_type": "code",
      "metadata": {
        "id": "Qv4JWfTzZ4vA",
        "colab_type": "code",
        "colab": {}
      },
      "source": [
        "pd_questao_3 = df_questao_3_to_plot.toPandas()\n"
      ],
      "execution_count": 268,
      "outputs": []
    },
    {
      "cell_type": "code",
      "metadata": {
        "id": "9f35KylgaMxO",
        "colab_type": "code",
        "colab": {
          "base_uri": "https://localhost:8080/",
          "height": 295
        },
        "outputId": "5237b87d-403a-4a5e-ffd5-c8333e54b8b9"
      },
      "source": [
        "plt.plot( pd_questao_3['avg_interest_ratio'], pd_questao_3['count_loan_id'])\n",
        "plt.title('Noverde')\n",
        "plt.xlabel('AVG Interest ratio')\n",
        "plt.ylabel('Quantity of loans')\n",
        "plt.show()\n"
      ],
      "execution_count": 275,
      "outputs": [
        {
          "output_type": "display_data",
          "data": {
            "image/png": "[encoded data removed]",
            "text/plain": [
              "<Figure size 432x288 with 1 Axes>"
            ]
          },
          "metadata": {
            "tags": [],
            "needs_background": "light"
          }
        }
      ]
    },
    {
      "cell_type": "code",
      "metadata": {
        "id": "iPcGwHnsZcpG",
        "colab_type": "code",
        "colab": {}
      },
      "source": [
        ""
      ],
      "execution_count": null,
      "outputs": []
    },
    {
      "cell_type": "markdown",
      "metadata": {
        "id": "GK6vn-MDGB7C",
        "colab_type": "text"
      },
      "source": [
        "4) Qual a proporção de empréstimos maturados da carteira (vencimento da primeira parcela ocorreu há pelo menos 30 dias) que estão hoje com Over30 = TRUE? Ex: Vamos supor que a carteira está crescendo rapidamente, chegando a um total de 15.000 contratos (loan_id), sendo que apenas 10.000 já passaram pelo primeiro vencimento há pelo menos 30 dias e 3.500 encontram-se em atraso. Sua query deverá retornar o seguinte resultado:\n",
        "\n",
        "![image.png](data:image/png;base64,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)"
      ]
    },
    {
      "cell_type": "markdown",
      "metadata": {
        "id": "Ox0BDCToXA2a",
        "colab_type": "text"
      },
      "source": [
        "Assumi a data 01/01/2019 para referência de atraso\n"
      ]
    },
    {
      "cell_type": "code",
      "metadata": {
        "id": "IcfkdPtBGQXU",
        "colab_type": "code",
        "colab": {}
      },
      "source": [
        "query_exercicio = ''' SELECT *, concat(format_number((over30_true*100/matured_portolio), 2), '%') as ratio FROM (\n",
        "                      SELECT COUNT(loan_id) as total_portolio\n",
        "                    , (SELECT count(*) FROM loan_documents where map_keys(installments)[0] = 1 and date_add(map_values(installments)[0], 30) < '2019-01-01') as matured_portolio\n",
        "                    , (SELECT COUNT(*) FROM loan_documents WHERE metrics.over30[0] = True and map_keys(installments)[0] = 1 and date_add(map_values(installments)[0], 30) < '2019-01-01') as over30_true\n",
        "                        FROM loan_documents) '''"
      ],
      "execution_count": 259,
      "outputs": []
    },
    {
      "cell_type": "code",
      "metadata": {
        "id": "SXqU9anuL3eL",
        "colab_type": "code",
        "colab": {}
      },
      "source": [
        "df_questao_4 = spark.sql(query_exercicio)"
      ],
      "execution_count": 260,
      "outputs": []
    },
    {
      "cell_type": "code",
      "metadata": {
        "id": "2Nt8a7llQuMu",
        "colab_type": "code",
        "colab": {
          "base_uri": "https://localhost:8080/",
          "height": 126
        },
        "outputId": "62768e99-7f87-4d3a-ccfe-4b5a5776a1fb"
      },
      "source": [
        "df_questao_4.show()"
      ],
      "execution_count": 261,
      "outputs": [
        {
          "output_type": "stream",
          "text": [
            "+--------------+----------------+-----------+------+\n",
            "|total_portolio|matured_portolio|over30_true| ratio|\n",
            "+--------------+----------------+-----------+------+\n",
            "|        102847|            8826|       4389|49.73%|\n",
            "+--------------+----------------+-----------+------+\n",
            "\n"
          ],
          "name": "stdout"
        }
      ]
    }
  ]
}